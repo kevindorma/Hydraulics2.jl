{
 "cells": [
  {
   "cell_type": "markdown",
   "metadata": {},
   "source": [
    "# Example Calculation\n",
    "## Client: INTERNAL\n",
    "---\n",
    "## Project: Test hydraulic network tools\n",
    "## Calc: CALC-003, network hydraulic sample calculations\n",
    "---\n",
    "## Authentication\n",
    "> Stamp, Permit\n",
    "---\n",
    "## Revision History\n",
    "|Revision | Date         | Description          | By  | Reviewer|\n",
    "| :-------| :------------|:---------------------|:----|:--------|\n",
    "|         |              | DRAFT                | KCD |         |\n",
    "|    4    |              | no  control valves   | kcd |         |\n",
    "|    5    | jan 30, 2021 | add control valves   | kcd |         |\n",
    "\n",
    "\n",
    "---"
   ]
  },
  {
   "cell_type": "markdown",
   "metadata": {},
   "source": [
    "## Introduction"
   ]
  },
  {
   "cell_type": "code",
   "execution_count": 29,
   "metadata": {
    "scrolled": true
   },
   "outputs": [
    {
     "name": "stdout",
     "output_type": "stream",
     "text": [
      "\u001b[32m\u001b[1m  Updating\u001b[22m\u001b[39m git-repo `https://github.com/kevindorma/Hydraulics2.jl`\n",
      "\u001b[?25l\u001b[2K\u001b[?25h\u001b[32m\u001b[1m  Updating\u001b[22m\u001b[39m git-repo `https://github.com/kevindorma/Hydraulics2.jl`\n",
      "\u001b[?25l\u001b[2K\u001b[?25h\u001b[32m\u001b[1m Resolving\u001b[22m\u001b[39m package versions...\n",
      "\u001b[32m\u001b[1m  Updating\u001b[22m\u001b[39m `~/.julia/environments/v1.3/Project.toml`\n",
      "\u001b[90m [no changes]\u001b[39m\n",
      "\u001b[32m\u001b[1m  Updating\u001b[22m\u001b[39m `~/.julia/environments/v1.3/Manifest.toml`\n",
      "\u001b[90m [no changes]\u001b[39m\n"
     ]
    }
   ],
   "source": [
    "# dependancies\n",
    "using Pkg\n",
    "#Pkg.add(\"DataFrames\")\n",
    "#Pkg.add(\"GridInterpolations\")\n",
    "#Pkg.add(\"Test\")\n",
    "\n",
    "# module is called Hydraulics2\n",
    "Pkg.add(PackageSpec(url=\"https://github.com/kevindorma/Hydraulics2.jl\"))\n",
    "\n",
    "using DataFrames\n",
    "#using GridInterpolations\n",
    "#using Test\n",
    "using CSV\n",
    "using ExcelFiles\n",
    "using Hydraulics2\n",
    "\n",
    "#include(\"/Users/kevin/.julia/dev/Hydraulics/src/Hydraulics2.jl\") # my hydraulic libary\n",
    "\n",
    "\n"
   ]
  },
  {
   "cell_type": "code",
   "execution_count": 30,
   "metadata": {
    "scrolled": false
   },
   "outputs": [
    {
     "data": {
      "text/html": [
       "<table class=\"data-frame\"><thead><tr><th></th><th>NPS</th></tr><tr><th></th><th>Float64</th></tr></thead><tbody><p>31 rows × 1 columns</p><tr><th>1</th><td>0.125</td></tr><tr><th>2</th><td>0.25</td></tr><tr><th>3</th><td>0.375</td></tr><tr><th>4</th><td>0.5</td></tr><tr><th>5</th><td>0.75</td></tr><tr><th>6</th><td>1.0</td></tr><tr><th>7</th><td>1.25</td></tr><tr><th>8</th><td>1.5</td></tr><tr><th>9</th><td>2.0</td></tr><tr><th>10</th><td>2.5</td></tr><tr><th>11</th><td>3.0</td></tr><tr><th>12</th><td>3.5</td></tr><tr><th>13</th><td>4.0</td></tr><tr><th>14</th><td>5.0</td></tr><tr><th>15</th><td>6.0</td></tr><tr><th>16</th><td>8.0</td></tr><tr><th>17</th><td>10.0</td></tr><tr><th>18</th><td>12.0</td></tr><tr><th>19</th><td>14.0</td></tr><tr><th>20</th><td>16.0</td></tr><tr><th>21</th><td>18.0</td></tr><tr><th>22</th><td>20.0</td></tr><tr><th>23</th><td>22.0</td></tr><tr><th>24</th><td>24.0</td></tr><tr><th>25</th><td>26.0</td></tr><tr><th>26</th><td>28.0</td></tr><tr><th>27</th><td>30.0</td></tr><tr><th>28</th><td>32.0</td></tr><tr><th>29</th><td>36.0</td></tr><tr><th>30</th><td>42.0</td></tr><tr><th>&vellip;</th><td>&vellip;</td></tr></tbody></table>"
      ],
      "text/latex": [
       "\\begin{tabular}{r|c}\n",
       "\t& NPS\\\\\n",
       "\t\\hline\n",
       "\t& Float64\\\\\n",
       "\t\\hline\n",
       "\t1 & 0.125 \\\\\n",
       "\t2 & 0.25 \\\\\n",
       "\t3 & 0.375 \\\\\n",
       "\t4 & 0.5 \\\\\n",
       "\t5 & 0.75 \\\\\n",
       "\t6 & 1.0 \\\\\n",
       "\t7 & 1.25 \\\\\n",
       "\t8 & 1.5 \\\\\n",
       "\t9 & 2.0 \\\\\n",
       "\t10 & 2.5 \\\\\n",
       "\t11 & 3.0 \\\\\n",
       "\t12 & 3.5 \\\\\n",
       "\t13 & 4.0 \\\\\n",
       "\t14 & 5.0 \\\\\n",
       "\t15 & 6.0 \\\\\n",
       "\t16 & 8.0 \\\\\n",
       "\t17 & 10.0 \\\\\n",
       "\t18 & 12.0 \\\\\n",
       "\t19 & 14.0 \\\\\n",
       "\t20 & 16.0 \\\\\n",
       "\t21 & 18.0 \\\\\n",
       "\t22 & 20.0 \\\\\n",
       "\t23 & 22.0 \\\\\n",
       "\t24 & 24.0 \\\\\n",
       "\t25 & 26.0 \\\\\n",
       "\t26 & 28.0 \\\\\n",
       "\t27 & 30.0 \\\\\n",
       "\t28 & 32.0 \\\\\n",
       "\t29 & 36.0 \\\\\n",
       "\t30 & 42.0 \\\\\n",
       "\t$\\dots$ & $\\dots$ \\\\\n",
       "\\end{tabular}\n"
      ],
      "text/plain": [
       "31×1 DataFrame\n",
       "│ Row │ NPS     │\n",
       "│     │ \u001b[90mFloat64\u001b[39m │\n",
       "├─────┼─────────┤\n",
       "│ 1   │ 0.125   │\n",
       "│ 2   │ 0.25    │\n",
       "│ 3   │ 0.375   │\n",
       "│ 4   │ 0.5     │\n",
       "│ 5   │ 0.75    │\n",
       "│ 6   │ 1.0     │\n",
       "│ 7   │ 1.25    │\n",
       "│ 8   │ 1.5     │\n",
       "│ 9   │ 2.0     │\n",
       "│ 10  │ 2.5     │\n",
       "⋮\n",
       "│ 21  │ 18.0    │\n",
       "│ 22  │ 20.0    │\n",
       "│ 23  │ 22.0    │\n",
       "│ 24  │ 24.0    │\n",
       "│ 25  │ 26.0    │\n",
       "│ 26  │ 28.0    │\n",
       "│ 27  │ 30.0    │\n",
       "│ 28  │ 32.0    │\n",
       "│ 29  │ 36.0    │\n",
       "│ 30  │ 42.0    │\n",
       "│ 31  │ 48.0    │"
      ]
     },
     "execution_count": 30,
     "metadata": {},
     "output_type": "execute_result"
    }
   ],
   "source": [
    "# test the global variable containing the list of nominal pipe sizes\n",
    "Hydraulics2.npsList"
   ]
  },
  {
   "cell_type": "markdown",
   "metadata": {},
   "source": [
    "## Define the hydraulic network\n",
    "\n",
    "Below is the network diagram.\n",
    "\n",
    "![](./SampleNetworkDiagram.png)\n",
    "\n",
    "Load the files for defining the network hydraulics."
   ]
  },
  {
   "cell_type": "code",
   "execution_count": 31,
   "metadata": {
    "scrolled": false
   },
   "outputs": [
    {
     "data": {
      "text/html": [
       "<table class=\"data-frame\"><thead><tr><th></th><th>DoFlabel</th><th>objType</th><th>object</th><th>variable</th><th>value</th></tr><tr><th></th><th>String</th><th>String</th><th>Any</th><th>String</th><th>Float64</th></tr></thead><tbody><p>10 rows × 5 columns</p><tr><th>1</th><td>DOF1</td><td>Segment</td><td>A</td><td>flowRate</td><td>15000.0</td></tr><tr><th>2</th><td>DOF2</td><td>Segment</td><td>B</td><td>flowRate</td><td>10000.0</td></tr><tr><th>3</th><td>DOF3</td><td>Node</td><td>4.0</td><td>pressure</td><td>100.0</td></tr><tr><th>4</th><td>DOF4</td><td>Segment</td><td>D</td><td>flowRate</td><td>50000.0</td></tr><tr><th>5</th><td>DOF5</td><td>Node</td><td>6.0</td><td>pressure</td><td>100.0</td></tr><tr><th>6</th><td>DOF6</td><td>Node</td><td>7.0</td><td>pressure</td><td>2000.0</td></tr><tr><th>7</th><td>DOF7</td><td>Node</td><td>8.0</td><td>pressure</td><td>100.0</td></tr><tr><th>8</th><td>DOF8</td><td>Node</td><td>9.0</td><td>pressure</td><td>1000.0</td></tr><tr><th>9</th><td>DOF9</td><td>Segment</td><td>F</td><td>flowRate</td><td>10000.0</td></tr><tr><th>10</th><td>DOF10</td><td>Node</td><td>12.0</td><td>pressure</td><td>100.0</td></tr></tbody></table>"
      ],
      "text/latex": [
       "\\begin{tabular}{r|ccccc}\n",
       "\t& DoFlabel & objType & object & variable & value\\\\\n",
       "\t\\hline\n",
       "\t& String & String & Any & String & Float64\\\\\n",
       "\t\\hline\n",
       "\t1 & DOF1 & Segment & A & flowRate & 15000.0 \\\\\n",
       "\t2 & DOF2 & Segment & B & flowRate & 10000.0 \\\\\n",
       "\t3 & DOF3 & Node & 4.0 & pressure & 100.0 \\\\\n",
       "\t4 & DOF4 & Segment & D & flowRate & 50000.0 \\\\\n",
       "\t5 & DOF5 & Node & 6.0 & pressure & 100.0 \\\\\n",
       "\t6 & DOF6 & Node & 7.0 & pressure & 2000.0 \\\\\n",
       "\t7 & DOF7 & Node & 8.0 & pressure & 100.0 \\\\\n",
       "\t8 & DOF8 & Node & 9.0 & pressure & 1000.0 \\\\\n",
       "\t9 & DOF9 & Segment & F & flowRate & 10000.0 \\\\\n",
       "\t10 & DOF10 & Node & 12.0 & pressure & 100.0 \\\\\n",
       "\\end{tabular}\n"
      ],
      "text/plain": [
       "10×5 DataFrame\n",
       "│ Row │ DoFlabel │ objType │ object │ variable │ value   │\n",
       "│     │ \u001b[90mString\u001b[39m   │ \u001b[90mString\u001b[39m  │ \u001b[90mAny\u001b[39m    │ \u001b[90mString\u001b[39m   │ \u001b[90mFloat64\u001b[39m │\n",
       "├─────┼──────────┼─────────┼────────┼──────────┼─────────┤\n",
       "│ 1   │ DOF1     │ Segment │ A      │ flowRate │ 15000.0 │\n",
       "│ 2   │ DOF2     │ Segment │ B      │ flowRate │ 10000.0 │\n",
       "│ 3   │ DOF3     │ Node    │ 4.0    │ pressure │ 100.0   │\n",
       "│ 4   │ DOF4     │ Segment │ D      │ flowRate │ 50000.0 │\n",
       "│ 5   │ DOF5     │ Node    │ 6.0    │ pressure │ 100.0   │\n",
       "│ 6   │ DOF6     │ Node    │ 7.0    │ pressure │ 2000.0  │\n",
       "│ 7   │ DOF7     │ Node    │ 8.0    │ pressure │ 100.0   │\n",
       "│ 8   │ DOF8     │ Node    │ 9.0    │ pressure │ 1000.0  │\n",
       "│ 9   │ DOF9     │ Segment │ F      │ flowRate │ 10000.0 │\n",
       "│ 10  │ DOF10    │ Node    │ 12.0   │ pressure │ 100.0   │"
      ]
     },
     "execution_count": 31,
     "metadata": {},
     "output_type": "execute_result"
    }
   ],
   "source": [
    "# these are the specific data\n",
    "# a few more tables for networks\n",
    "lineHydraulics = DataFrame(load(\"networkHydraulicSample_rev_1.xlsx\", \"hydraulics\"))\n",
    "fluidList = DataFrame(load(\"networkHydraulicSample_rev_1.xlsx\", \"fluidList\"))\n",
    "fittingList = DataFrame(load(\"networkHydraulicSample_rev_1.xlsx\", \"fittingList\"))\n",
    "nodeList = DataFrame(load(\"networkHydraulicSample_rev_1.xlsx\", \"nodeList\"))\n",
    "connectivity = DataFrame(load(\"networkHydraulicSample_rev_1.xlsx\", \"connectivity\"))\n",
    "dofList = DataFrame(load(\"networkHydraulicSample_rev_1.xlsx\", \"DoF\"))"
   ]
  },
  {
   "cell_type": "markdown",
   "metadata": {},
   "source": [
    "## Check input tables for inconsistancies"
   ]
  },
  {
   "cell_type": "code",
   "execution_count": 32,
   "metadata": {},
   "outputs": [],
   "source": [
    "# show the list of pipe schedules\n",
    "Hydraulics2.schedList;"
   ]
  },
  {
   "cell_type": "code",
   "execution_count": 33,
   "metadata": {
    "scrolled": false
   },
   "outputs": [
    {
     "data": {
      "text/html": [
       "<table class=\"data-frame\"><thead><tr><th></th><th>message</th><th>entry</th><th>Segment</th><th>NPS</th><th>Schedule</th><th>material</th><th>fluidName</th></tr><tr><th></th><th>String</th><th>Int64</th><th>String</th><th>Float64</th><th>String</th><th>String</th><th>String</th></tr></thead><tbody><p>0 rows × 7 columns</p></tbody></table>"
      ],
      "text/latex": [
       "\\begin{tabular}{r|ccccccc}\n",
       "\t& message & entry & Segment & NPS & Schedule & material & fluidName\\\\\n",
       "\t\\hline\n",
       "\t& String & Int64 & String & Float64 & String & String & String\\\\\n",
       "\t\\hline\n",
       "\\end{tabular}\n"
      ],
      "text/plain": [
       "0×7 DataFrame\n"
      ]
     },
     "execution_count": 33,
     "metadata": {},
     "output_type": "execute_result"
    }
   ],
   "source": [
    " Hydraulics2.checkLineList(lineHydraulics,fluidList)\n",
    "# error entries are returned\n",
    "# no entries means good"
   ]
  },
  {
   "cell_type": "markdown",
   "metadata": {},
   "source": [
    "## Network Hydraulic calculations\n",
    "\n",
    "\n"
   ]
  },
  {
   "cell_type": "code",
   "execution_count": 34,
   "metadata": {
    "scrolled": true
   },
   "outputs": [],
   "source": [
    "# parrot the input data to check\n",
    "fittingList;\n",
    "connectivity;\n",
    "nodeList;\n"
   ]
  },
  {
   "cell_type": "code",
   "execution_count": 35,
   "metadata": {
    "scrolled": true
   },
   "outputs": [
    {
     "name": "stdout",
     "output_type": "stream",
     "text": [
      "OK: 36 equations and variables\n"
     ]
    },
    {
     "data": {
      "text/plain": [
       "36×1 Array{Float64,2}:\n",
       "  15000.0                 \n",
       "  10000.000000000002      \n",
       "  24999.999999999996      \n",
       "  50000.00000000001       \n",
       " 303968.94252981344       \n",
       "  10000.0                 \n",
       "  10000.0                 \n",
       "  10000.0                 \n",
       "      2.25e8              \n",
       "      1.0000000000000001e8\n",
       "      6.249999999999999e8 \n",
       "      2.5000000000000005e9\n",
       "      9.239711802269302e10\n",
       "      ⋮                   \n",
       "    100.61914410974748    \n",
       "    100.42534956480773    \n",
       "    100.24676864520227    \n",
       "    100.0                 \n",
       "    103.82163876298584    \n",
       "    100.0                 \n",
       "   2000.0                 \n",
       "    100.0                 \n",
       "   1000.0                 \n",
       "    994.9557305530527     \n",
       "    104.96747884277313    \n",
       "    100.0                 "
      ]
     },
     "execution_count": 35,
     "metadata": {},
     "output_type": "execute_result"
    }
   ],
   "source": [
    "# this does all of the work\n",
    "gBx = Hydraulics2.doNetworkHydraulics(lineHydraulics, fluidList, connectivity, dofList, nodeList, fittingList)"
   ]
  },
  {
   "cell_type": "code",
   "execution_count": 36,
   "metadata": {
    "scrolled": false
   },
   "outputs": [
    {
     "data": {
      "text/html": [
       "<table class=\"data-frame\"><thead><tr><th></th><th>Segment</th><th>massFlow</th><th>dp</th><th>fromP</th><th>toP</th><th>fromNode</th><th>toNode</th><th>segmentLength</th></tr><tr><th></th><th>Any</th><th>Any</th><th>Any</th><th>Any</th><th>Any</th><th>Float64</th><th>Float64</th><th>Float64</th></tr></thead><tbody><p>8 rows × 8 columns</p><tr><th>1</th><td>A</td><td>15000.0</td><td>0.372375</td><td>100.619</td><td>100.247</td><td>1.0</td><td>3.0</td><td>100.0</td></tr><tr><th>2</th><td>B</td><td>10000.0</td><td>0.178581</td><td>100.425</td><td>100.247</td><td>2.0</td><td>3.0</td><td>100.0</td></tr><tr><th>3</th><td>C</td><td>25000.0</td><td>0.246769</td><td>100.247</td><td>100.0</td><td>3.0</td><td>4.0</td><td>100.0</td></tr><tr><th>4</th><td>D</td><td>50000.0</td><td>3.82164</td><td>103.822</td><td>100.0</td><td>5.0</td><td>6.0</td><td>100.0</td></tr><tr><th>5</th><td>E</td><td>3.03969e5</td><td>1900.0</td><td>2000.0</td><td>100.0</td><td>7.0</td><td>8.0</td><td>200.0</td></tr><tr><th>6</th><td>F</td><td>10000.0</td><td>5.04427</td><td>1000.0</td><td>994.956</td><td>9.0</td><td>10.0</td><td>100.0</td></tr><tr><th>7</th><td>CV-001</td><td>10000.0</td><td>889.988</td><td>994.956</td><td>104.967</td><td>10.0</td><td>11.0</td><td>0.0</td></tr><tr><th>8</th><td>G</td><td>10000.0</td><td>4.96748</td><td>104.967</td><td>100.0</td><td>11.0</td><td>12.0</td><td>100.0</td></tr></tbody></table>"
      ],
      "text/latex": [
       "\\begin{tabular}{r|cccccccc}\n",
       "\t& Segment & massFlow & dp & fromP & toP & fromNode & toNode & segmentLength\\\\\n",
       "\t\\hline\n",
       "\t& Any & Any & Any & Any & Any & Float64 & Float64 & Float64\\\\\n",
       "\t\\hline\n",
       "\t1 & A & 15000.0 & 0.372375 & 100.619 & 100.247 & 1.0 & 3.0 & 100.0 \\\\\n",
       "\t2 & B & 10000.0 & 0.178581 & 100.425 & 100.247 & 2.0 & 3.0 & 100.0 \\\\\n",
       "\t3 & C & 25000.0 & 0.246769 & 100.247 & 100.0 & 3.0 & 4.0 & 100.0 \\\\\n",
       "\t4 & D & 50000.0 & 3.82164 & 103.822 & 100.0 & 5.0 & 6.0 & 100.0 \\\\\n",
       "\t5 & E & 3.03969e5 & 1900.0 & 2000.0 & 100.0 & 7.0 & 8.0 & 200.0 \\\\\n",
       "\t6 & F & 10000.0 & 5.04427 & 1000.0 & 994.956 & 9.0 & 10.0 & 100.0 \\\\\n",
       "\t7 & CV-001 & 10000.0 & 889.988 & 994.956 & 104.967 & 10.0 & 11.0 & 0.0 \\\\\n",
       "\t8 & G & 10000.0 & 4.96748 & 104.967 & 100.0 & 11.0 & 12.0 & 100.0 \\\\\n",
       "\\end{tabular}\n"
      ],
      "text/plain": [
       "8×8 DataFrame. Omitted printing of 2 columns\n",
       "│ Row │ Segment │ massFlow  │ dp       │ fromP   │ toP     │ fromNode │\n",
       "│     │ \u001b[90mAny\u001b[39m     │ \u001b[90mAny\u001b[39m       │ \u001b[90mAny\u001b[39m      │ \u001b[90mAny\u001b[39m     │ \u001b[90mAny\u001b[39m     │ \u001b[90mFloat64\u001b[39m  │\n",
       "├─────┼─────────┼───────────┼──────────┼─────────┼─────────┼──────────┤\n",
       "│ 1   │ A       │ 15000.0   │ 0.372375 │ 100.619 │ 100.247 │ 1.0      │\n",
       "│ 2   │ B       │ 10000.0   │ 0.178581 │ 100.425 │ 100.247 │ 2.0      │\n",
       "│ 3   │ C       │ 25000.0   │ 0.246769 │ 100.247 │ 100.0   │ 3.0      │\n",
       "│ 4   │ D       │ 50000.0   │ 3.82164  │ 103.822 │ 100.0   │ 5.0      │\n",
       "│ 5   │ E       │ 3.03969e5 │ 1900.0   │ 2000.0  │ 100.0   │ 7.0      │\n",
       "│ 6   │ F       │ 10000.0   │ 5.04427  │ 1000.0  │ 994.956 │ 9.0      │\n",
       "│ 7   │ CV-001  │ 10000.0   │ 889.988  │ 994.956 │ 104.967 │ 10.0     │\n",
       "│ 8   │ G       │ 10000.0   │ 4.96748  │ 104.967 │ 100.0   │ 11.0     │"
      ]
     },
     "execution_count": 36,
     "metadata": {},
     "output_type": "execute_result"
    }
   ],
   "source": [
    "# extract the results from the solution vector.\n",
    "ourResults = Hydraulics2.extractResults(gBx, lineHydraulics, connectivity, nodeList, fittingList)"
   ]
  },
  {
   "cell_type": "code",
   "execution_count": 37,
   "metadata": {},
   "outputs": [
    {
     "data": {
      "text/html": [
       "<table class=\"data-frame\"><thead><tr><th></th><th>Segment</th><th>massFlow</th><th>dp</th><th>fromP</th><th>toP</th><th>fromNode</th><th>toNode</th><th>segmentLength</th></tr><tr><th></th><th>Any</th><th>Any</th><th>Any</th><th>Any</th><th>Any</th><th>Float64?</th><th>Float64?</th><th>Float64?</th></tr></thead><tbody><p>8 rows × 24 columns (omitted printing of 16 columns)</p><tr><th>1</th><td>A</td><td>15000.0</td><td>0.372375</td><td>100.619</td><td>100.247</td><td>1.0</td><td>3.0</td><td>100.0</td></tr><tr><th>2</th><td>B</td><td>10000.0</td><td>0.178581</td><td>100.425</td><td>100.247</td><td>2.0</td><td>3.0</td><td>100.0</td></tr><tr><th>3</th><td>C</td><td>25000.0</td><td>0.246769</td><td>100.247</td><td>100.0</td><td>3.0</td><td>4.0</td><td>100.0</td></tr><tr><th>4</th><td>D</td><td>50000.0</td><td>3.82164</td><td>103.822</td><td>100.0</td><td>5.0</td><td>6.0</td><td>100.0</td></tr><tr><th>5</th><td>E</td><td>3.03969e5</td><td>1900.0</td><td>2000.0</td><td>100.0</td><td>7.0</td><td>8.0</td><td>200.0</td></tr><tr><th>6</th><td>F</td><td>10000.0</td><td>5.04427</td><td>1000.0</td><td>994.956</td><td>9.0</td><td>10.0</td><td>100.0</td></tr><tr><th>7</th><td>CV-001</td><td>10000.0</td><td>889.988</td><td>994.956</td><td>104.967</td><td>10.0</td><td>11.0</td><td>0.0</td></tr><tr><th>8</th><td>G</td><td>10000.0</td><td>4.96748</td><td>104.967</td><td>100.0</td><td>11.0</td><td>12.0</td><td>100.0</td></tr></tbody></table>"
      ],
      "text/latex": [
       "\\begin{tabular}{r|ccccccccc}\n",
       "\t& Segment & massFlow & dp & fromP & toP & fromNode & toNode & segmentLength & \\\\\n",
       "\t\\hline\n",
       "\t& Any & Any & Any & Any & Any & Float64? & Float64? & Float64? & \\\\\n",
       "\t\\hline\n",
       "\t1 & A & 15000.0 & 0.372375 & 100.619 & 100.247 & 1.0 & 3.0 & 100.0 & $\\dots$ \\\\\n",
       "\t2 & B & 10000.0 & 0.178581 & 100.425 & 100.247 & 2.0 & 3.0 & 100.0 & $\\dots$ \\\\\n",
       "\t3 & C & 25000.0 & 0.246769 & 100.247 & 100.0 & 3.0 & 4.0 & 100.0 & $\\dots$ \\\\\n",
       "\t4 & D & 50000.0 & 3.82164 & 103.822 & 100.0 & 5.0 & 6.0 & 100.0 & $\\dots$ \\\\\n",
       "\t5 & E & 3.03969e5 & 1900.0 & 2000.0 & 100.0 & 7.0 & 8.0 & 200.0 & $\\dots$ \\\\\n",
       "\t6 & F & 10000.0 & 5.04427 & 1000.0 & 994.956 & 9.0 & 10.0 & 100.0 & $\\dots$ \\\\\n",
       "\t7 & CV-001 & 10000.0 & 889.988 & 994.956 & 104.967 & 10.0 & 11.0 & 0.0 & $\\dots$ \\\\\n",
       "\t8 & G & 10000.0 & 4.96748 & 104.967 & 100.0 & 11.0 & 12.0 & 100.0 & $\\dots$ \\\\\n",
       "\\end{tabular}\n"
      ],
      "text/plain": [
       "8×24 DataFrame. Omitted printing of 18 columns\n",
       "│ Row │ Segment │ massFlow  │ dp       │ fromP   │ toP     │ fromNode │\n",
       "│     │ \u001b[90mAny\u001b[39m     │ \u001b[90mAny\u001b[39m       │ \u001b[90mAny\u001b[39m      │ \u001b[90mAny\u001b[39m     │ \u001b[90mAny\u001b[39m     │ \u001b[90mFloat64?\u001b[39m │\n",
       "├─────┼─────────┼───────────┼──────────┼─────────┼─────────┼──────────┤\n",
       "│ 1   │ A       │ 15000.0   │ 0.372375 │ 100.619 │ 100.247 │ 1.0      │\n",
       "│ 2   │ B       │ 10000.0   │ 0.178581 │ 100.425 │ 100.247 │ 2.0      │\n",
       "│ 3   │ C       │ 25000.0   │ 0.246769 │ 100.247 │ 100.0   │ 3.0      │\n",
       "│ 4   │ D       │ 50000.0   │ 3.82164  │ 103.822 │ 100.0   │ 5.0      │\n",
       "│ 5   │ E       │ 3.03969e5 │ 1900.0   │ 2000.0  │ 100.0   │ 7.0      │\n",
       "│ 6   │ F       │ 10000.0   │ 5.04427  │ 1000.0  │ 994.956 │ 9.0      │\n",
       "│ 7   │ CV-001  │ 10000.0   │ 889.988  │ 994.956 │ 104.967 │ 10.0     │\n",
       "│ 8   │ G       │ 10000.0   │ 4.96748  │ 104.967 │ 100.0   │ 11.0     │"
      ]
     },
     "execution_count": 37,
     "metadata": {},
     "output_type": "execute_result"
    }
   ],
   "source": [
    "# combine results into a complete table\n",
    "allResults = Hydraulics2.combineResults(ourResults,lineHydraulics)"
   ]
  },
  {
   "cell_type": "code",
   "execution_count": 38,
   "metadata": {
    "scrolled": true
   },
   "outputs": [
    {
     "data": {
      "text/plain": [
       "24-element Array{String,1}:\n",
       " \"Segment\"      \n",
       " \"massFlow\"     \n",
       " \"dp\"           \n",
       " \"fromP\"        \n",
       " \"toP\"          \n",
       " \"fromNode\"     \n",
       " \"toNode\"       \n",
       " \"segmentLength\"\n",
       " \"velocity_ms\"  \n",
       " \"rho_kgm3\"     \n",
       " \"Re\"           \n",
       " \"frictF\"       \n",
       " \"IDmm\"         \n",
       " \"IDinch\"       \n",
       " \"Description\"  \n",
       " \"LineTag\"      \n",
       " \"PnID\"         \n",
       " \"NPS\"          \n",
       " \"Schedule\"     \n",
       " \"Material\"     \n",
       " \"fluidName\"    \n",
       " \"inletP_kPaa\"  \n",
       " \"mu_mPas\"      \n",
       " \"roughnessMM\"  "
      ]
     },
     "execution_count": 38,
     "metadata": {},
     "output_type": "execute_result"
    }
   ],
   "source": [
    "# list all of the field names\n",
    "names(allResults)"
   ]
  },
  {
   "cell_type": "code",
   "execution_count": 39,
   "metadata": {},
   "outputs": [
    {
     "data": {
      "text/html": [
       "<table class=\"data-frame\"><thead><tr><th></th><th>Segment</th><th>fluidName</th><th>velocity_ms</th><th>rho_kgm3</th><th>mu_mPas</th><th>Re</th><th>frictF</th></tr><tr><th></th><th>Any</th><th>String?</th><th>Float64?</th><th>Float64?</th><th>Float64?</th><th>Float64?</th><th>Float64?</th></tr></thead><tbody><p>8 rows × 7 columns</p><tr><th>1</th><td>A</td><td>water</td><td>0.224756</td><td>993.99</td><td>0.719</td><td>47881.5</td><td>0.0222404</td></tr><tr><th>2</th><td>B</td><td>water</td><td>0.149837</td><td>993.99</td><td>0.719</td><td>31921.0</td><td>0.0240212</td></tr><tr><th>3</th><td>C</td><td>water</td><td>0.2165</td><td>993.99</td><td>0.719</td><td>60668.7</td><td>0.0209884</td></tr><tr><th>4</th><td>D</td><td>water</td><td>0.749187</td><td>993.99</td><td>0.719</td><td>1.59605e5</td><td>0.0187372</td></tr><tr><th>5</th><td>E</td><td>water</td><td>10.3348</td><td>993.99</td><td>0.719</td><td>1.46161e6</td><td>0.018103</td></tr><tr><th>6</th><td>F</td><td>water</td><td>0.586342</td><td>993.99</td><td>0.719</td><td>63145.3</td><td>0.0226475</td></tr><tr><th>7</th><td>CV-001</td><td><em>missing</em></td><td><em>missing</em></td><td><em>missing</em></td><td><em>missing</em></td><td><em>missing</em></td><td><em>missing</em></td></tr><tr><th>8</th><td>G</td><td>water</td><td>0.586342</td><td>993.99</td><td>0.719</td><td>63145.3</td><td>0.0226475</td></tr></tbody></table>"
      ],
      "text/latex": [
       "\\begin{tabular}{r|ccccccc}\n",
       "\t& Segment & fluidName & velocity\\_ms & rho\\_kgm3 & mu\\_mPas & Re & frictF\\\\\n",
       "\t\\hline\n",
       "\t& Any & String? & Float64? & Float64? & Float64? & Float64? & Float64?\\\\\n",
       "\t\\hline\n",
       "\t1 & A & water & 0.224756 & 993.99 & 0.719 & 47881.5 & 0.0222404 \\\\\n",
       "\t2 & B & water & 0.149837 & 993.99 & 0.719 & 31921.0 & 0.0240212 \\\\\n",
       "\t3 & C & water & 0.2165 & 993.99 & 0.719 & 60668.7 & 0.0209884 \\\\\n",
       "\t4 & D & water & 0.749187 & 993.99 & 0.719 & 1.59605e5 & 0.0187372 \\\\\n",
       "\t5 & E & water & 10.3348 & 993.99 & 0.719 & 1.46161e6 & 0.018103 \\\\\n",
       "\t6 & F & water & 0.586342 & 993.99 & 0.719 & 63145.3 & 0.0226475 \\\\\n",
       "\t7 & CV-001 & \\emph{missing} & \\emph{missing} & \\emph{missing} & \\emph{missing} & \\emph{missing} & \\emph{missing} \\\\\n",
       "\t8 & G & water & 0.586342 & 993.99 & 0.719 & 63145.3 & 0.0226475 \\\\\n",
       "\\end{tabular}\n"
      ],
      "text/plain": [
       "8×7 DataFrame. Omitted printing of 1 columns\n",
       "│ Row │ Segment │ fluidName │ velocity_ms │ rho_kgm3 │ mu_mPas  │ Re        │\n",
       "│     │ \u001b[90mAny\u001b[39m     │ \u001b[90mString?\u001b[39m   │ \u001b[90mFloat64?\u001b[39m    │ \u001b[90mFloat64?\u001b[39m │ \u001b[90mFloat64?\u001b[39m │ \u001b[90mFloat64?\u001b[39m  │\n",
       "├─────┼─────────┼───────────┼─────────────┼──────────┼──────────┼───────────┤\n",
       "│ 1   │ A       │ water     │ 0.224756    │ 993.99   │ 0.719    │ 47881.5   │\n",
       "│ 2   │ B       │ water     │ 0.149837    │ 993.99   │ 0.719    │ 31921.0   │\n",
       "│ 3   │ C       │ water     │ 0.2165      │ 993.99   │ 0.719    │ 60668.7   │\n",
       "│ 4   │ D       │ water     │ 0.749187    │ 993.99   │ 0.719    │ 1.59605e5 │\n",
       "│ 5   │ E       │ water     │ 10.3348     │ 993.99   │ 0.719    │ 1.46161e6 │\n",
       "│ 6   │ F       │ water     │ 0.586342    │ 993.99   │ 0.719    │ 63145.3   │\n",
       "│ 7   │ CV-001  │ \u001b[90mmissing\u001b[39m   │ \u001b[90mmissing\u001b[39m     │ \u001b[90mmissing\u001b[39m  │ \u001b[90mmissing\u001b[39m  │ \u001b[90mmissing\u001b[39m   │\n",
       "│ 8   │ G       │ water     │ 0.586342    │ 993.99   │ 0.719    │ 63145.3   │"
      ]
     },
     "execution_count": 39,
     "metadata": {},
     "output_type": "execute_result"
    }
   ],
   "source": [
    "# create result tables based on the field names\n",
    "# overall pressure profile\n",
    "resultTable1 = select(allResults, [:Segment, :massFlow, :dp, :fromP, :toP])\n",
    "# piping dimensions\n",
    "resultTable2 = select(allResults, [:Segment, :NPS, :Schedule, :IDmm, :roughnessMM, :segmentLength])\n",
    "# friction information\n",
    "resultTable3 = select(allResults, [:Segment, :fluidName, :velocity_ms, :rho_kgm3, :mu_mPas, :Re, :frictF])"
   ]
  },
  {
   "cell_type": "code",
   "execution_count": 40,
   "metadata": {},
   "outputs": [],
   "source": [
    "# export to CSV file if needed"
   ]
  }
 ],
 "metadata": {
  "kernelspec": {
   "display_name": "Julia 1.3.1",
   "language": "julia",
   "name": "julia-1.3"
  },
  "language_info": {
   "file_extension": ".jl",
   "mimetype": "application/julia",
   "name": "julia",
   "version": "1.3.1"
  }
 },
 "nbformat": 4,
 "nbformat_minor": 2
}
