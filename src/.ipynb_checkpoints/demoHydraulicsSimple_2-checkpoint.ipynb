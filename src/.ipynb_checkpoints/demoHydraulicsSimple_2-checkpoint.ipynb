{
 "cells": [
  {
   "cell_type": "markdown",
   "metadata": {},
   "source": [
    "# Example Calculation\n",
    "## Client: INTERNAL\n",
    "---\n",
    "## Project: develop hydraulic tools\n",
    "## Calc: CALC-002, hydraulic sample calculations\n",
    "---\n",
    "## Authentication\n",
    "> Stamp, Permit\n",
    "---\n",
    "## Revision History\n",
    "|Revision | Date | Description | By | Reviewer|\n",
    "| :-------| :----|:------------|:---|:--------|\n",
    "|       | | DRAFT | KCD |  |\n",
    "|         |          |            |     |    |\n",
    "\n",
    "---"
   ]
  },
  {
   "cell_type": "markdown",
   "metadata": {},
   "source": [
    "## Introduction"
   ]
  },
  {
   "cell_type": "code",
   "execution_count": 18,
   "metadata": {
    "scrolled": true
   },
   "outputs": [
    {
     "ename": "ErrorException",
     "evalue": "importing Hydraulics into Main conflicts with an existing identifier",
     "output_type": "error",
     "traceback": [
      "importing Hydraulics into Main conflicts with an existing identifier",
      "",
      "Stacktrace:",
      " [1] top-level scope at In[18]:14"
     ]
    }
   ],
   "source": [
    "# dependancies\n",
    "using Pkg\n",
    "#Pkg.add(\"DataFrames\")\n",
    "#Pkg.add(\"GridInterpolations\")\n",
    "#Pkg.add(\"Test\")\n",
    "\n",
    "#Pkg.add(PackageSpec(url=\"https://github.com/kevindorma/Hydraulics.jl\"))\n",
    "\n",
    "using DataFrames\n",
    "#using GridInterpolations\n",
    "#using Test\n",
    "using CSV\n",
    "using ExcelFiles\n",
    "using Hydraulics\n",
    "\n",
    "include(\"/Users/kevin/.julia/dev/Hydraulics/src/Hydraulics2.jl\") # my hydraulic libary\n",
    "\n"
   ]
  },
  {
   "cell_type": "markdown",
   "metadata": {},
   "source": [
    "List a common utility table."
   ]
  },
  {
   "cell_type": "code",
   "execution_count": 19,
   "metadata": {
    "scrolled": false
   },
   "outputs": [
    {
     "data": {
      "text/html": [
       "<table class=\"data-frame\"><thead><tr><th></th><th>NPS</th><th>Schedule</th><th>Idmm</th></tr><tr><th></th><th>Float64</th><th>String</th><th>Float64</th></tr></thead><tbody><p>250 rows × 3 columns</p><tr><th>1</th><td>0.125</td><td>OD</td><td>10.287</td></tr><tr><th>2</th><td>0.25</td><td>OD</td><td>13.716</td></tr><tr><th>3</th><td>0.375</td><td>OD</td><td>17.145</td></tr><tr><th>4</th><td>0.5</td><td>OD</td><td>21.336</td></tr><tr><th>5</th><td>0.75</td><td>OD</td><td>26.67</td></tr><tr><th>6</th><td>1.0</td><td>OD</td><td>33.401</td></tr><tr><th>7</th><td>1.25</td><td>OD</td><td>42.164</td></tr><tr><th>8</th><td>1.5</td><td>OD</td><td>48.26</td></tr><tr><th>9</th><td>2.0</td><td>OD</td><td>60.325</td></tr><tr><th>10</th><td>2.5</td><td>OD</td><td>73.025</td></tr><tr><th>11</th><td>3.0</td><td>OD</td><td>88.9</td></tr><tr><th>12</th><td>3.5</td><td>OD</td><td>101.6</td></tr><tr><th>13</th><td>4.0</td><td>OD</td><td>114.3</td></tr><tr><th>14</th><td>5.0</td><td>OD</td><td>141.3</td></tr><tr><th>15</th><td>6.0</td><td>OD</td><td>168.275</td></tr><tr><th>16</th><td>8.0</td><td>OD</td><td>219.075</td></tr><tr><th>17</th><td>10.0</td><td>OD</td><td>273.05</td></tr><tr><th>18</th><td>12.0</td><td>OD</td><td>323.85</td></tr><tr><th>19</th><td>14.0</td><td>OD</td><td>355.6</td></tr><tr><th>20</th><td>16.0</td><td>OD</td><td>406.4</td></tr><tr><th>21</th><td>18.0</td><td>OD</td><td>457.2</td></tr><tr><th>22</th><td>20.0</td><td>OD</td><td>508.0</td></tr><tr><th>23</th><td>22.0</td><td>OD</td><td>558.8</td></tr><tr><th>24</th><td>24.0</td><td>OD</td><td>609.6</td></tr><tr><th>25</th><td>26.0</td><td>OD</td><td>660.4</td></tr><tr><th>26</th><td>28.0</td><td>OD</td><td>711.2</td></tr><tr><th>27</th><td>30.0</td><td>OD</td><td>762.0</td></tr><tr><th>28</th><td>32.0</td><td>OD</td><td>812.8</td></tr><tr><th>29</th><td>36.0</td><td>OD</td><td>914.4</td></tr><tr><th>30</th><td>42.0</td><td>OD</td><td>1066.8</td></tr><tr><th>&vellip;</th><td>&vellip;</td><td>&vellip;</td><td>&vellip;</td></tr></tbody></table>"
      ],
      "text/latex": [
       "\\begin{tabular}{r|ccc}\n",
       "\t& NPS & Schedule & Idmm\\\\\n",
       "\t\\hline\n",
       "\t& Float64 & String & Float64\\\\\n",
       "\t\\hline\n",
       "\t1 & 0.125 & OD & 10.287 \\\\\n",
       "\t2 & 0.25 & OD & 13.716 \\\\\n",
       "\t3 & 0.375 & OD & 17.145 \\\\\n",
       "\t4 & 0.5 & OD & 21.336 \\\\\n",
       "\t5 & 0.75 & OD & 26.67 \\\\\n",
       "\t6 & 1.0 & OD & 33.401 \\\\\n",
       "\t7 & 1.25 & OD & 42.164 \\\\\n",
       "\t8 & 1.5 & OD & 48.26 \\\\\n",
       "\t9 & 2.0 & OD & 60.325 \\\\\n",
       "\t10 & 2.5 & OD & 73.025 \\\\\n",
       "\t11 & 3.0 & OD & 88.9 \\\\\n",
       "\t12 & 3.5 & OD & 101.6 \\\\\n",
       "\t13 & 4.0 & OD & 114.3 \\\\\n",
       "\t14 & 5.0 & OD & 141.3 \\\\\n",
       "\t15 & 6.0 & OD & 168.275 \\\\\n",
       "\t16 & 8.0 & OD & 219.075 \\\\\n",
       "\t17 & 10.0 & OD & 273.05 \\\\\n",
       "\t18 & 12.0 & OD & 323.85 \\\\\n",
       "\t19 & 14.0 & OD & 355.6 \\\\\n",
       "\t20 & 16.0 & OD & 406.4 \\\\\n",
       "\t21 & 18.0 & OD & 457.2 \\\\\n",
       "\t22 & 20.0 & OD & 508.0 \\\\\n",
       "\t23 & 22.0 & OD & 558.8 \\\\\n",
       "\t24 & 24.0 & OD & 609.6 \\\\\n",
       "\t25 & 26.0 & OD & 660.4 \\\\\n",
       "\t26 & 28.0 & OD & 711.2 \\\\\n",
       "\t27 & 30.0 & OD & 762.0 \\\\\n",
       "\t28 & 32.0 & OD & 812.8 \\\\\n",
       "\t29 & 36.0 & OD & 914.4 \\\\\n",
       "\t30 & 42.0 & OD & 1066.8 \\\\\n",
       "\t$\\dots$ & $\\dots$ & $\\dots$ & $\\dots$ \\\\\n",
       "\\end{tabular}\n"
      ],
      "text/plain": [
       "250×3 DataFrame\n",
       "│ Row │ NPS     │ Schedule │ Idmm    │\n",
       "│     │ \u001b[90mFloat64\u001b[39m │ \u001b[90mString\u001b[39m   │ \u001b[90mFloat64\u001b[39m │\n",
       "├─────┼─────────┼──────────┼─────────┤\n",
       "│ 1   │ 0.125   │ OD       │ 10.287  │\n",
       "│ 2   │ 0.25    │ OD       │ 13.716  │\n",
       "│ 3   │ 0.375   │ OD       │ 17.145  │\n",
       "│ 4   │ 0.5     │ OD       │ 21.336  │\n",
       "│ 5   │ 0.75    │ OD       │ 26.67   │\n",
       "│ 6   │ 1.0     │ OD       │ 33.401  │\n",
       "│ 7   │ 1.25    │ OD       │ 42.164  │\n",
       "│ 8   │ 1.5     │ OD       │ 48.26   │\n",
       "│ 9   │ 2.0     │ OD       │ 60.325  │\n",
       "│ 10  │ 2.5     │ OD       │ 73.025  │\n",
       "⋮\n",
       "│ 240 │ 4.0     │ SCH160   │ 87.3    │\n",
       "│ 241 │ 5.0     │ SCH160   │ 109.5   │\n",
       "│ 242 │ 6.0     │ SCH160   │ 131.7   │\n",
       "│ 243 │ 8.0     │ SCH160   │ 173.1   │\n",
       "│ 244 │ 10.0    │ SCH160   │ 215.9   │\n",
       "│ 245 │ 12.0    │ SCH160   │ 257.3   │\n",
       "│ 246 │ 14.0    │ SCH160   │ 284.18  │\n",
       "│ 247 │ 16.0    │ SCH160   │ 325.42  │\n",
       "│ 248 │ 18.0    │ SCH160   │ 366.72  │\n",
       "│ 249 │ 20.0    │ SCH160   │ 407.98  │\n",
       "│ 250 │ 24.0    │ SCH160   │ 490.52  │"
      ]
     },
     "execution_count": 19,
     "metadata": {},
     "output_type": "execute_result"
    }
   ],
   "source": [
    "Hydraulics.IDmm"
   ]
  },
  {
   "cell_type": "markdown",
   "metadata": {},
   "source": [
    "## Format of input data\n",
    "Input data is required the following tables.\n",
    "* fluidList: this tabulates fluid density and viscosity for a given fluid. Used for sizing and hydraulic calculations.\n",
    "\n",
    "Sizing\n",
    "* Put the sizing information in the table lineSizing. A spreadsheet is very convenient becauase it allows one to use descriptors for properties (such as fluid type, pipe material, pipe schedule).\n",
    "\n",
    "Hydraulics\n",
    "* Need a table (lines) for describing overall conditions for each line segment.\n",
    "* also need a table (fittingList) for listing all of the piping components in each line segment.\n",
    "\n",
    "A spreadsheet is very convenient for tabulating the input data. Dropdown menus are used to ensure inputs are correct (fluid type, NPS, pipe schedule). Then the hydraulic calculations are performed using the input data in the spreadsheet.\n",
    "\n"
   ]
  },
  {
   "cell_type": "code",
   "execution_count": 20,
   "metadata": {},
   "outputs": [],
   "source": [
    "# these are the specific data\n",
    "lineHydraulics = DataFrame(load(\"simpleHydraulicSample_rev_2.xlsx\", \"hydraulics\"))\n",
    "fluidList = DataFrame(load(\"simpleHydraulicSample_rev_2.xlsx\", \"fluidList\"))\n",
    "fittingList = DataFrame(load(\"simpleHydraulicSample_rev_2.xlsx\", \"fittingList\"));"
   ]
  },
  {
   "cell_type": "markdown",
   "metadata": {},
   "source": [
    "## Check input tables for inconsistancies"
   ]
  },
  {
   "cell_type": "code",
   "execution_count": 21,
   "metadata": {
    "scrolled": false
   },
   "outputs": [
    {
     "data": {
      "text/html": [
       "<table class=\"data-frame\"><thead><tr><th></th><th>message</th><th>entry</th><th>Segment</th><th>NPS</th><th>Schedule</th><th>material</th><th>fluidName</th></tr><tr><th></th><th>String</th><th>Int64</th><th>String</th><th>Float64</th><th>String</th><th>String</th><th>String</th></tr></thead><tbody><p>0 rows × 7 columns</p></tbody></table>"
      ],
      "text/latex": [
       "\\begin{tabular}{r|ccccccc}\n",
       "\t& message & entry & Segment & NPS & Schedule & material & fluidName\\\\\n",
       "\t\\hline\n",
       "\t& String & Int64 & String & Float64 & String & String & String\\\\\n",
       "\t\\hline\n",
       "\\end{tabular}\n"
      ],
      "text/plain": [
       "0×7 DataFrame\n"
      ]
     },
     "execution_count": 21,
     "metadata": {},
     "output_type": "execute_result"
    }
   ],
   "source": [
    "Hydraulics.checkLineList(lineHydraulics,fluidList)"
   ]
  },
  {
   "cell_type": "code",
   "execution_count": 22,
   "metadata": {},
   "outputs": [],
   "source": [
    "Hydraulics.pipeRoughness;"
   ]
  },
  {
   "cell_type": "markdown",
   "metadata": {},
   "source": [
    "## Hydraulic calculations\n",
    "\n",
    "First, take a look at the input data."
   ]
  },
  {
   "cell_type": "code",
   "execution_count": 23,
   "metadata": {
    "scrolled": false
   },
   "outputs": [
    {
     "data": {
      "text/html": [
       "<table class=\"data-frame\"><thead><tr><th></th><th>fluidName</th><th>rho_kgm3</th><th>mu_mPas</th><th>Comment</th></tr><tr><th></th><th>String</th><th>Float64</th><th>Float64</th><th>String</th></tr></thead><tbody><p>3 rows × 4 columns</p><tr><th>1</th><td>water</td><td>993.99</td><td>0.719</td><td>35 C, NIST</td></tr><tr><th>2</th><td>propane</td><td>476.14</td><td>0.08745</td><td>35 C, NIST</td></tr><tr><th>3</th><td>Air_1</td><td>8.47359</td><td>0.0178938</td><td>700 kPaa and 15 C, - low pressure viscosity</td></tr></tbody></table>"
      ],
      "text/latex": [
       "\\begin{tabular}{r|cccc}\n",
       "\t& fluidName & rho\\_kgm3 & mu\\_mPas & Comment\\\\\n",
       "\t\\hline\n",
       "\t& String & Float64 & Float64 & String\\\\\n",
       "\t\\hline\n",
       "\t1 & water & 993.99 & 0.719 & 35 C, NIST \\\\\n",
       "\t2 & propane & 476.14 & 0.08745 & 35 C, NIST \\\\\n",
       "\t3 & Air\\_1 & 8.47359 & 0.0178938 & 700 kPaa and 15 C, - low pressure viscosity \\\\\n",
       "\\end{tabular}\n"
      ],
      "text/plain": [
       "3×4 DataFrame. Omitted printing of 1 columns\n",
       "│ Row │ fluidName │ rho_kgm3 │ mu_mPas   │\n",
       "│     │ \u001b[90mString\u001b[39m    │ \u001b[90mFloat64\u001b[39m  │ \u001b[90mFloat64\u001b[39m   │\n",
       "├─────┼───────────┼──────────┼───────────┤\n",
       "│ 1   │ water     │ 993.99   │ 0.719     │\n",
       "│ 2   │ propane   │ 476.14   │ 0.08745   │\n",
       "│ 3   │ Air_1     │ 8.47359  │ 0.0178938 │"
      ]
     },
     "execution_count": 23,
     "metadata": {},
     "output_type": "execute_result"
    }
   ],
   "source": [
    "fluidList"
   ]
  },
  {
   "cell_type": "code",
   "execution_count": 24,
   "metadata": {
    "scrolled": true
   },
   "outputs": [
    {
     "data": {
      "text/html": [
       "<table class=\"data-frame\"><thead><tr><th></th><th>Segment</th><th>Description</th><th>LineTag</th><th>PnID</th><th>NPS</th><th>Schedule</th><th>Material</th><th>fluidName</th></tr><tr><th></th><th>String</th><th>String</th><th>String</th><th>String</th><th>Float64</th><th>String</th><th>String</th><th>String</th></tr></thead><tbody><p>2 rows × 10 columns (omitted printing of 2 columns)</p><tr><th>1</th><td>A</td><td>one line</td><td>L-001</td><td>optional</td><td>4.0</td><td>STD</td><td>Commercial steel</td><td>water</td></tr><tr><th>2</th><td>B</td><td>another line</td><td>L-002</td><td>optional</td><td>8.0</td><td>STD</td><td>Commercial steel</td><td>propane</td></tr></tbody></table>"
      ],
      "text/latex": [
       "\\begin{tabular}{r|ccccccccc}\n",
       "\t& Segment & Description & LineTag & PnID & NPS & Schedule & Material & fluidName & \\\\\n",
       "\t\\hline\n",
       "\t& String & String & String & String & Float64 & String & String & String & \\\\\n",
       "\t\\hline\n",
       "\t1 & A & one line & L-001 & optional & 4.0 & STD & Commercial steel & water & $\\dots$ \\\\\n",
       "\t2 & B & another line & L-002 & optional & 8.0 & STD & Commercial steel & propane & $\\dots$ \\\\\n",
       "\\end{tabular}\n"
      ],
      "text/plain": [
       "2×10 DataFrame. Omitted printing of 4 columns\n",
       "│ Row │ Segment │ Description  │ LineTag │ PnID     │ NPS     │ Schedule │\n",
       "│     │ \u001b[90mString\u001b[39m  │ \u001b[90mString\u001b[39m       │ \u001b[90mString\u001b[39m  │ \u001b[90mString\u001b[39m   │ \u001b[90mFloat64\u001b[39m │ \u001b[90mString\u001b[39m   │\n",
       "├─────┼─────────┼──────────────┼─────────┼──────────┼─────────┼──────────┤\n",
       "│ 1   │ A       │ one line     │ L-001   │ optional │ 4.0     │ STD      │\n",
       "│ 2   │ B       │ another line │ L-002   │ optional │ 8.0     │ STD      │"
      ]
     },
     "execution_count": 24,
     "metadata": {},
     "output_type": "execute_result"
    }
   ],
   "source": [
    "lineHydraulics"
   ]
  },
  {
   "cell_type": "code",
   "execution_count": 25,
   "metadata": {
    "scrolled": false
   },
   "outputs": [
    {
     "data": {
      "text/html": [
       "<table class=\"data-frame\"><thead><tr><th></th><th>Segment</th><th>fittingType</th><th>num_length_m</th><th>comment</th><th>revision</th></tr><tr><th></th><th>String</th><th>String</th><th>Float64</th><th>String?</th><th>String?</th></tr></thead><tbody><p>3 rows × 5 columns</p><tr><th>1</th><td>A</td><td>EL45-THD-STD</td><td>2.0</td><td><em>missing</em></td><td><em>missing</em></td></tr><tr><th>2</th><td>A</td><td>PIPE</td><td>55.0</td><td>smurf</td><td>B</td></tr><tr><th>3</th><td>B</td><td>PIPE</td><td>100.0</td><td><em>missing</em></td><td><em>missing</em></td></tr></tbody></table>"
      ],
      "text/latex": [
       "\\begin{tabular}{r|ccccc}\n",
       "\t& Segment & fittingType & num\\_length\\_m & comment & revision\\\\\n",
       "\t\\hline\n",
       "\t& String & String & Float64 & String? & String?\\\\\n",
       "\t\\hline\n",
       "\t1 & A & EL45-THD-STD & 2.0 & \\emph{missing} & \\emph{missing} \\\\\n",
       "\t2 & A & PIPE & 55.0 & smurf & B \\\\\n",
       "\t3 & B & PIPE & 100.0 & \\emph{missing} & \\emph{missing} \\\\\n",
       "\\end{tabular}\n"
      ],
      "text/plain": [
       "3×5 DataFrame\n",
       "│ Row │ Segment │ fittingType  │ num_length_m │ comment │ revision │\n",
       "│     │ \u001b[90mString\u001b[39m  │ \u001b[90mString\u001b[39m       │ \u001b[90mFloat64\u001b[39m      │ \u001b[90mString?\u001b[39m │ \u001b[90mString?\u001b[39m  │\n",
       "├─────┼─────────┼──────────────┼──────────────┼─────────┼──────────┤\n",
       "│ 1   │ A       │ EL45-THD-STD │ 2.0          │ \u001b[90mmissing\u001b[39m │ \u001b[90mmissing\u001b[39m  │\n",
       "│ 2   │ A       │ PIPE         │ 55.0         │ smurf   │ B        │\n",
       "│ 3   │ B       │ PIPE         │ 100.0        │ \u001b[90mmissing\u001b[39m │ \u001b[90mmissing\u001b[39m  │"
      ]
     },
     "execution_count": 25,
     "metadata": {},
     "output_type": "execute_result"
    }
   ],
   "source": [
    "fittingList"
   ]
  },
  {
   "cell_type": "markdown",
   "metadata": {},
   "source": [
    "Get pressure drop for each segment."
   ]
  },
  {
   "cell_type": "code",
   "execution_count": 26,
   "metadata": {},
   "outputs": [
    {
     "data": {
      "text/html": [
       "<table class=\"data-frame\"><thead><tr><th></th><th>Segment</th><th>segmentK</th><th>DPkpa</th><th>inletP</th><th>outletP</th></tr><tr><th></th><th>String</th><th>Float64</th><th>Float64</th><th>Float64</th><th>Float64</th></tr></thead><tbody><p>2 rows × 5 columns</p><tr><th>1</th><td>A</td><td>10.524</td><td>60.4616</td><td>100.0</td><td>39.5384</td></tr><tr><th>2</th><td>B</td><td>7.85214</td><td>1.52744</td><td>100.0</td><td>98.4726</td></tr></tbody></table>"
      ],
      "text/latex": [
       "\\begin{tabular}{r|ccccc}\n",
       "\t& Segment & segmentK & DPkpa & inletP & outletP\\\\\n",
       "\t\\hline\n",
       "\t& String & Float64 & Float64 & Float64 & Float64\\\\\n",
       "\t\\hline\n",
       "\t1 & A & 10.524 & 60.4616 & 100.0 & 39.5384 \\\\\n",
       "\t2 & B & 7.85214 & 1.52744 & 100.0 & 98.4726 \\\\\n",
       "\\end{tabular}\n"
      ],
      "text/plain": [
       "2×5 DataFrame\n",
       "│ Row │ Segment │ segmentK │ DPkpa   │ inletP  │ outletP │\n",
       "│     │ \u001b[90mString\u001b[39m  │ \u001b[90mFloat64\u001b[39m  │ \u001b[90mFloat64\u001b[39m │ \u001b[90mFloat64\u001b[39m │ \u001b[90mFloat64\u001b[39m │\n",
       "├─────┼─────────┼──────────┼─────────┼─────────┼─────────┤\n",
       "│ 1   │ A       │ 10.524   │ 60.4616 │ 100.0   │ 39.5384 │\n",
       "│ 2   │ B       │ 7.85214  │ 1.52744 │ 100.0   │ 98.4726 │"
      ]
     },
     "execution_count": 26,
     "metadata": {},
     "output_type": "execute_result"
    }
   ],
   "source": [
    "myDP = Hydraulics.getSegmentDP(lineHydraulics,fittingList,fluidList)"
   ]
  },
  {
   "cell_type": "code",
   "execution_count": null,
   "metadata": {},
   "outputs": [],
   "source": []
  }
 ],
 "metadata": {
  "kernelspec": {
   "display_name": "Julia 1.3.1",
   "language": "julia",
   "name": "julia-1.3"
  },
  "language_info": {
   "file_extension": ".jl",
   "mimetype": "application/julia",
   "name": "julia",
   "version": "1.3.1"
  }
 },
 "nbformat": 4,
 "nbformat_minor": 2
}
