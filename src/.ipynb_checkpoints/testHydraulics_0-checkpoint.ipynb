{
 "cells": [
  {
   "cell_type": "markdown",
   "metadata": {},
   "source": [
    "# Kevin Dorma\n",
    "## Client: INTERNAL\n",
    "---\n",
    "## Project: develop PSV tools\n",
    "## Calc: CALC-001, vapour PSV case\n",
    "---\n",
    "## Authentication\n",
    "> Stamp, Permit\n",
    "---\n",
    "## Revision History\n",
    "|Revision | Date | Description | By | Reviewer|\n",
    "| :-------| :----|:------------|:---|:--------|\n",
    "|       | | DRAFT | KCD |  |\n",
    "|         |          |            |     |    |\n",
    "\n",
    "---"
   ]
  },
  {
   "cell_type": "code",
   "execution_count": 41,
   "metadata": {
    "scrolled": true
   },
   "outputs": [],
   "source": [
    "# dependancies\n",
    "using Pkg\n",
    "#Pkg.add(\"DataFrames\")\n",
    "#Pkg.add(\"GridInterpolations\")\n",
    "#Pkg.add(\"Test\")\n",
    "using DataFrames\n",
    "#using Test\n",
    "using CSV\n",
    "using ExcelFiles\n"
   ]
  },
  {
   "cell_type": "code",
   "execution_count": 43,
   "metadata": {
    "scrolled": true
   },
   "outputs": [
    {
     "name": "stderr",
     "output_type": "stream",
     "text": [
      "WARNING: replacing module hydraulics.\n"
     ]
    },
    {
     "data": {
      "text/plain": [
       "Main.hydraulics"
      ]
     },
     "execution_count": 43,
     "metadata": {},
     "output_type": "execute_result"
    }
   ],
   "source": [
    "include(\"/Users/kevin/Jupyter/julia_dev/Hydraulics/src/hydraulics_1.jl\") # my PSV library"
   ]
  },
  {
   "cell_type": "code",
   "execution_count": 44,
   "metadata": {},
   "outputs": [],
   "source": [
    "hydraulics.npsList;"
   ]
  },
  {
   "cell_type": "code",
   "execution_count": 45,
   "metadata": {},
   "outputs": [],
   "source": [
    "# these are the specific data\n",
    "lineSizing = DataFrame(load(\"hydraulicDescription_2.xlsx\", \"sizing\"))\n",
    "lines = DataFrame(load(\"hydraulicDescription_2.xlsx\", \"lineDescription\"))\n",
    "fluidList = DataFrame(load(\"hydraulicDescription_2.xlsx\", \"fluidList\"))\n",
    "fittingList = DataFrame(load(\"hydraulicDescription_2.xlsx\", \"fittingList\"));"
   ]
  },
  {
   "cell_type": "code",
   "execution_count": 46,
   "metadata": {},
   "outputs": [
    {
     "data": {
      "text/html": [
       "<table class=\"data-frame\"><thead><tr><th></th><th>Segment</th><th>subSegment</th><th>Description</th><th>LineTag</th><th>NPS</th><th>Schedule</th><th>Material</th></tr><tr><th></th><th>String</th><th>String</th><th>String</th><th>String</th><th>Float64</th><th>String</th><th>String</th></tr></thead><tbody><p>2 rows × 11 columns (omitted printing of 4 columns)</p><tr><th>1</th><td>A</td><td>blank</td><td>our Line</td><td>L-001</td><td>10.0</td><td>STD</td><td>Commercial steel</td></tr><tr><th>2</th><td>B</td><td>blank</td><td>another</td><td>L-002</td><td>8.0</td><td>STD</td><td>Commercial steel</td></tr></tbody></table>"
      ],
      "text/latex": [
       "\\begin{tabular}{r|cccccccc}\n",
       "\t& Segment & subSegment & Description & LineTag & NPS & Schedule & Material & \\\\\n",
       "\t\\hline\n",
       "\t& String & String & String & String & Float64 & String & String & \\\\\n",
       "\t\\hline\n",
       "\t1 & A & blank & our Line & L-001 & 10.0 & STD & Commercial steel & $\\dots$ \\\\\n",
       "\t2 & B & blank & another & L-002 & 8.0 & STD & Commercial steel & $\\dots$ \\\\\n",
       "\\end{tabular}\n"
      ],
      "text/plain": [
       "2×11 DataFrame. Omitted printing of 5 columns\n",
       "│ Row │ Segment │ subSegment │ Description │ LineTag │ NPS     │ Schedule │\n",
       "│     │ \u001b[90mString\u001b[39m  │ \u001b[90mString\u001b[39m     │ \u001b[90mString\u001b[39m      │ \u001b[90mString\u001b[39m  │ \u001b[90mFloat64\u001b[39m │ \u001b[90mString\u001b[39m   │\n",
       "├─────┼─────────┼────────────┼─────────────┼─────────┼─────────┼──────────┤\n",
       "│ 1   │ A       │ blank      │ our Line    │ L-001   │ 10.0    │ STD      │\n",
       "│ 2   │ B       │ blank      │ another     │ L-002   │ 8.0     │ STD      │"
      ]
     },
     "execution_count": 46,
     "metadata": {},
     "output_type": "execute_result"
    }
   ],
   "source": [
    "lines"
   ]
  },
  {
   "cell_type": "code",
   "execution_count": 47,
   "metadata": {
    "scrolled": true
   },
   "outputs": [
    {
     "data": {
      "text/html": [
       "<table class=\"data-frame\"><thead><tr><th></th><th>message</th><th>entry</th><th>Segment</th><th>NPS</th><th>SCHED</th><th>material</th><th>fluidName</th></tr><tr><th></th><th>String</th><th>Int64</th><th>String</th><th>Float64</th><th>String</th><th>String</th><th>String</th></tr></thead><tbody><p>0 rows × 7 columns</p></tbody></table>"
      ],
      "text/latex": [
       "\\begin{tabular}{r|ccccccc}\n",
       "\t& message & entry & Segment & NPS & SCHED & material & fluidName\\\\\n",
       "\t\\hline\n",
       "\t& String & Int64 & String & Float64 & String & String & String\\\\\n",
       "\t\\hline\n",
       "\\end{tabular}\n"
      ],
      "text/plain": [
       "0×7 DataFrame\n"
      ]
     },
     "execution_count": 47,
     "metadata": {},
     "output_type": "execute_result"
    }
   ],
   "source": [
    "hydraulics.checkLineList(lines,fluidList)"
   ]
  },
  {
   "cell_type": "code",
   "execution_count": 48,
   "metadata": {},
   "outputs": [
    {
     "data": {
      "text/plain": [
       "0.0"
      ]
     },
     "execution_count": 48,
     "metadata": {},
     "output_type": "execute_result"
    }
   ],
   "source": [
    "hydraulics.addFluidProperties(lineSizing,fluidList)\n",
    "hydraulics.addFluidProperties(lines,fluidList)\n",
    "\n",
    "hydraulics.addPipeProperties(lines)\n",
    "\n"
   ]
  },
  {
   "cell_type": "code",
   "execution_count": 49,
   "metadata": {},
   "outputs": [
    {
     "data": {
      "text/html": [
       "<table class=\"data-frame\"><thead><tr><th></th><th>mmDP100</th><th>mmErosion</th><th>mmNeeded</th></tr><tr><th></th><th>Float64</th><th>Float64</th><th>Float64</th></tr></thead><tbody><p>4 rows × 3 columns</p><tr><th>1</th><td>293.178</td><td>314.414</td><td>314.414</td></tr><tr><th>2</th><td>66.121</td><td>60.752</td><td>66.121</td></tr><tr><th>3</th><td>22.6721</td><td>6.80462</td><td>22.6721</td></tr><tr><th>4</th><td>15.3859</td><td>6.80462</td><td>15.3859</td></tr></tbody></table>"
      ],
      "text/latex": [
       "\\begin{tabular}{r|ccc}\n",
       "\t& mmDP100 & mmErosion & mmNeeded\\\\\n",
       "\t\\hline\n",
       "\t& Float64 & Float64 & Float64\\\\\n",
       "\t\\hline\n",
       "\t1 & 293.178 & 314.414 & 314.414 \\\\\n",
       "\t2 & 66.121 & 60.752 & 66.121 \\\\\n",
       "\t3 & 22.6721 & 6.80462 & 22.6721 \\\\\n",
       "\t4 & 15.3859 & 6.80462 & 15.3859 \\\\\n",
       "\\end{tabular}\n"
      ],
      "text/plain": [
       "4×3 DataFrame\n",
       "│ Row │ mmDP100 │ mmErosion │ mmNeeded │\n",
       "│     │ \u001b[90mFloat64\u001b[39m │ \u001b[90mFloat64\u001b[39m   │ \u001b[90mFloat64\u001b[39m  │\n",
       "├─────┼─────────┼───────────┼──────────┤\n",
       "│ 1   │ 293.178 │ 314.414   │ 314.414  │\n",
       "│ 2   │ 66.121  │ 60.752    │ 66.121   │\n",
       "│ 3   │ 22.6721 │ 6.80462   │ 22.6721  │\n",
       "│ 4   │ 15.3859 │ 6.80462   │ 15.3859  │"
      ]
     },
     "execution_count": 49,
     "metadata": {},
     "output_type": "execute_result"
    }
   ],
   "source": [
    "myLineSize = hydraulics.getLineSize(lineSizing)"
   ]
  },
  {
   "cell_type": "code",
   "execution_count": 50,
   "metadata": {},
   "outputs": [
    {
     "data": {
      "text/html": [
       "<table class=\"data-frame\"><thead><tr><th></th><th>Segment</th><th>velocity_ms</th><th>rho_kgm3</th><th>Re</th><th>frictF</th><th>IDmm</th><th>IDinch</th></tr><tr><th></th><th>String</th><th>Float64</th><th>Float64</th><th>Float64</th><th>Float64</th><th>Float64</th><th>Float64</th></tr></thead><tbody><p>2 rows × 7 columns</p><tr><th>1</th><td>A</td><td>0.655259</td><td>1000.0</td><td>1.51603e5</td><td>0.0179217</td><td>254.5</td><td>10.0197</td></tr><tr><th>2</th><td>B</td><td>1.03295</td><td>500.0</td><td>1.0469e6</td><td>0.0158903</td><td>202.7</td><td>7.98031</td></tr></tbody></table>"
      ],
      "text/latex": [
       "\\begin{tabular}{r|ccccccc}\n",
       "\t& Segment & velocity\\_ms & rho\\_kgm3 & Re & frictF & IDmm & IDinch\\\\\n",
       "\t\\hline\n",
       "\t& String & Float64 & Float64 & Float64 & Float64 & Float64 & Float64\\\\\n",
       "\t\\hline\n",
       "\t1 & A & 0.655259 & 1000.0 & 1.51603e5 & 0.0179217 & 254.5 & 10.0197 \\\\\n",
       "\t2 & B & 1.03295 & 500.0 & 1.0469e6 & 0.0158903 & 202.7 & 7.98031 \\\\\n",
       "\\end{tabular}\n"
      ],
      "text/plain": [
       "2×7 DataFrame. Omitted printing of 1 columns\n",
       "│ Row │ Segment │ velocity_ms │ rho_kgm3 │ Re        │ frictF    │ IDmm    │\n",
       "│     │ \u001b[90mString\u001b[39m  │ \u001b[90mFloat64\u001b[39m     │ \u001b[90mFloat64\u001b[39m  │ \u001b[90mFloat64\u001b[39m   │ \u001b[90mFloat64\u001b[39m   │ \u001b[90mFloat64\u001b[39m │\n",
       "├─────┼─────────┼─────────────┼──────────┼───────────┼───────────┼─────────┤\n",
       "│ 1   │ A       │ 0.655259    │ 1000.0   │ 1.51603e5 │ 0.0179217 │ 254.5   │\n",
       "│ 2   │ B       │ 1.03295     │ 500.0    │ 1.0469e6  │ 0.0158903 │ 202.7   │"
      ]
     },
     "execution_count": 50,
     "metadata": {},
     "output_type": "execute_result"
    }
   ],
   "source": [
    "prelim = hydraulics.getPreliminaries(lines)"
   ]
  },
  {
   "cell_type": "markdown",
   "metadata": {},
   "source": [
    "How should I calculate the DP for each segement? I think I should use the preliminaries to calculate the DP for each entry in the fitting list. Then I can sum the values.\n",
    "\n",
    "\n",
    "Note that\n",
    "$$\n",
    "K = \\frac{K_m}{Re} + K_{\\inf} \\left(1 + \\frac{K_D}{D^{0.3}_{inch}} \\right)\n",
    "$$\n",
    "\n",
    "For pipe I need\n",
    "$$\n",
    "K = f \\frac{L}{D}\n",
    "$$\n",
    "\n",
    "Easy. I need another value for K, call it Kp = 1 for pipe and zero for fitting.\n",
    "\n",
    "Now I need to pass the "
   ]
  },
  {
   "cell_type": "code",
   "execution_count": 51,
   "metadata": {},
   "outputs": [
    {
     "data": {
      "text/html": [
       "<table class=\"data-frame\"><thead><tr><th></th><th>Segment</th><th>subSegment</th><th>Description</th><th>LineTag</th><th>NPS</th><th>Schedule</th><th>Material</th></tr><tr><th></th><th>String</th><th>String</th><th>String</th><th>String</th><th>Float64</th><th>String</th><th>String</th></tr></thead><tbody><p>2 rows × 15 columns (omitted printing of 8 columns)</p><tr><th>1</th><td>A</td><td>blank</td><td>our Line</td><td>L-001</td><td>10.0</td><td>STD</td><td>Commercial steel</td></tr><tr><th>2</th><td>B</td><td>blank</td><td>another</td><td>L-002</td><td>8.0</td><td>STD</td><td>Commercial steel</td></tr></tbody></table>"
      ],
      "text/latex": [
       "\\begin{tabular}{r|cccccccc}\n",
       "\t& Segment & subSegment & Description & LineTag & NPS & Schedule & Material & \\\\\n",
       "\t\\hline\n",
       "\t& String & String & String & String & Float64 & String & String & \\\\\n",
       "\t\\hline\n",
       "\t1 & A & blank & our Line & L-001 & 10.0 & STD & Commercial steel & $\\dots$ \\\\\n",
       "\t2 & B & blank & another & L-002 & 8.0 & STD & Commercial steel & $\\dots$ \\\\\n",
       "\\end{tabular}\n"
      ],
      "text/plain": [
       "2×15 DataFrame. Omitted printing of 9 columns\n",
       "│ Row │ Segment │ subSegment │ Description │ LineTag │ NPS     │ Schedule │\n",
       "│     │ \u001b[90mString\u001b[39m  │ \u001b[90mString\u001b[39m     │ \u001b[90mString\u001b[39m      │ \u001b[90mString\u001b[39m  │ \u001b[90mFloat64\u001b[39m │ \u001b[90mString\u001b[39m   │\n",
       "├─────┼─────────┼────────────┼─────────────┼─────────┼─────────┼──────────┤\n",
       "│ 1   │ A       │ blank      │ our Line    │ L-001   │ 10.0    │ STD      │\n",
       "│ 2   │ B       │ blank      │ another     │ L-002   │ 8.0     │ STD      │"
      ]
     },
     "execution_count": 51,
     "metadata": {},
     "output_type": "execute_result"
    }
   ],
   "source": [
    "lines"
   ]
  },
  {
   "cell_type": "code",
   "execution_count": 52,
   "metadata": {},
   "outputs": [
    {
     "data": {
      "text/html": [
       "<table class=\"data-frame\"><thead><tr><th></th><th>Segment</th><th>Kp</th><th>DPkpa</th></tr><tr><th></th><th>String</th><th>Float64</th><th>Float64</th></tr></thead><tbody><p>3 rows × 3 columns</p><tr><th>1</th><td>A</td><td>0.0</td><td>0.0960335</td></tr><tr><th>2</th><td>A</td><td>1.0</td><td>0.831478</td></tr><tr><th>3</th><td>B</td><td>1.0</td><td>2.09113</td></tr></tbody></table>"
      ],
      "text/latex": [
       "\\begin{tabular}{r|ccc}\n",
       "\t& Segment & Kp & DPkpa\\\\\n",
       "\t\\hline\n",
       "\t& String & Float64 & Float64\\\\\n",
       "\t\\hline\n",
       "\t1 & A & 0.0 & 0.0960335 \\\\\n",
       "\t2 & A & 1.0 & 0.831478 \\\\\n",
       "\t3 & B & 1.0 & 2.09113 \\\\\n",
       "\\end{tabular}\n"
      ],
      "text/plain": [
       "3×3 DataFrame\n",
       "│ Row │ Segment │ Kp      │ DPkpa     │\n",
       "│     │ \u001b[90mString\u001b[39m  │ \u001b[90mFloat64\u001b[39m │ \u001b[90mFloat64\u001b[39m   │\n",
       "├─────┼─────────┼─────────┼───────────┤\n",
       "│ 1   │ A       │ 0.0     │ 0.0960335 │\n",
       "│ 2   │ A       │ 1.0     │ 0.831478  │\n",
       "│ 3   │ B       │ 1.0     │ 2.09113   │"
      ]
     },
     "execution_count": 52,
     "metadata": {},
     "output_type": "execute_result"
    }
   ],
   "source": [
    "myDP2 = hydraulics.elementDP(lines,fittingList)"
   ]
  },
  {
   "cell_type": "code",
   "execution_count": 54,
   "metadata": {},
   "outputs": [
    {
     "data": {
      "text/html": [
       "<table class=\"data-frame\"><thead><tr><th></th><th>Segment</th><th>DPkpa</th></tr><tr><th></th><th>String</th><th>Float64</th></tr></thead><tbody><p>2 rows × 2 columns</p><tr><th>1</th><td>A</td><td>0.927511</td></tr><tr><th>2</th><td>B</td><td>2.09113</td></tr></tbody></table>"
      ],
      "text/latex": [
       "\\begin{tabular}{r|cc}\n",
       "\t& Segment & DPkpa\\\\\n",
       "\t\\hline\n",
       "\t& String & Float64\\\\\n",
       "\t\\hline\n",
       "\t1 & A & 0.927511 \\\\\n",
       "\t2 & B & 2.09113 \\\\\n",
       "\\end{tabular}\n"
      ],
      "text/plain": [
       "2×2 DataFrame\n",
       "│ Row │ Segment │ DPkpa    │\n",
       "│     │ \u001b[90mString\u001b[39m  │ \u001b[90mFloat64\u001b[39m  │\n",
       "├─────┼─────────┼──────────┤\n",
       "│ 1   │ A       │ 0.927511 │\n",
       "│ 2   │ B       │ 2.09113  │"
      ]
     },
     "execution_count": 54,
     "metadata": {},
     "output_type": "execute_result"
    }
   ],
   "source": [
    "hydraulics.compileDP2(lines,myDP2)"
   ]
  },
  {
   "cell_type": "code",
   "execution_count": null,
   "metadata": {},
   "outputs": [],
   "source": []
  }
 ],
 "metadata": {
  "kernelspec": {
   "display_name": "Julia 1.3.1",
   "language": "julia",
   "name": "julia-1.3"
  },
  "language_info": {
   "file_extension": ".jl",
   "mimetype": "application/julia",
   "name": "julia",
   "version": "1.3.1"
  }
 },
 "nbformat": 4,
 "nbformat_minor": 2
}
