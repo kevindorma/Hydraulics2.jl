{
 "cells": [
  {
   "cell_type": "markdown",
   "metadata": {},
   "source": [
    "# Kevin Dorma\n",
    "## Client: INTERNAL\n",
    "---\n",
    "## Project: develop PSV tools\n",
    "## Calc: CALC-001, vapour PSV case\n",
    "---\n",
    "## Authentication\n",
    "> Stamp, Permit\n",
    "---\n",
    "## Revision History\n",
    "|Revision | Date | Description | By | Reviewer|\n",
    "| :-------| :----|:------------|:---|:--------|\n",
    "|       | | DRAFT | KCD |  |\n",
    "|         |          |            |     |    |\n",
    "\n",
    "---"
   ]
  },
  {
   "cell_type": "code",
   "execution_count": 10,
   "metadata": {
    "scrolled": true
   },
   "outputs": [
    {
     "name": "stdout",
     "output_type": "stream",
     "text": [
      "\u001b[32m\u001b[1m Resolving\u001b[22m\u001b[39m package versions...\n",
      "\u001b[32m\u001b[1m  Updating\u001b[22m\u001b[39m `~/Jupyter/julia_dev/Hydraulics/Project.toml`\n",
      " \u001b[90m [89b67f3b]\u001b[39m\u001b[92m + ExcelFiles v1.0.0\u001b[39m\n",
      "\u001b[32m\u001b[1m  Updating\u001b[22m\u001b[39m `~/Jupyter/julia_dev/Hydraulics/Manifest.toml`\n",
      " \u001b[90m [56f22d72]\u001b[39m\u001b[92m + Artifacts v1.3.0\u001b[39m\n",
      " \u001b[90m [324d7699]\u001b[39m\u001b[93m ↑ CategoricalArrays v0.9.0 ⇒ v0.9.1\u001b[39m\n",
      " \u001b[90m [8f4d0f93]\u001b[39m\u001b[92m + Conda v1.5.0\u001b[39m\n",
      " \u001b[90m [9a962f9c]\u001b[39m\u001b[93m ↑ DataAPI v1.4.0 ⇒ v1.5.0\u001b[39m\n",
      " \u001b[90m [864edb3b]\u001b[39m\u001b[93m ↑ DataStructures v0.18.8 ⇒ v0.18.9\u001b[39m\n",
      " \u001b[90m [e7dc6d0d]\u001b[39m\u001b[92m + DataValues v0.4.13\u001b[39m\n",
      " \u001b[90m [89b67f3b]\u001b[39m\u001b[92m + ExcelFiles v1.0.0\u001b[39m\n",
      " \u001b[90m [c04bee98]\u001b[39m\u001b[92m + ExcelReaders v0.11.0\u001b[39m\n",
      " \u001b[90m [8f5d6c58]\u001b[39m\u001b[92m + EzXML v1.1.0\u001b[39m\n",
      " \u001b[90m [5789e2e9]\u001b[39m\u001b[92m + FileIO v1.4.5\u001b[39m\n",
      " \u001b[90m [1c8ee90f]\u001b[39m\u001b[92m + IterableTables v1.0.0\u001b[39m\n",
      " \u001b[90m [692b3bcd]\u001b[39m\u001b[92m + JLLWrappers v1.2.0\u001b[39m\n",
      " \u001b[90m [94ce4f54]\u001b[39m\u001b[92m + Libiconv_jll v1.16.0+7\u001b[39m\n",
      " \u001b[90m [1914dd2f]\u001b[39m\u001b[92m + MacroTools v0.5.6\u001b[39m\n",
      " \u001b[90m [e1d29d7a]\u001b[39m\u001b[93m ↑ Missings v0.4.4 ⇒ v0.4.5\u001b[39m\n",
      " \u001b[90m [bac558e1]\u001b[39m\u001b[93m ↑ OrderedCollections v1.3.2 ⇒ v1.3.3\u001b[39m\n",
      " \u001b[90m [438e738f]\u001b[39m\u001b[92m + PyCall v1.92.2\u001b[39m\n",
      " \u001b[90m [ae029012]\u001b[39m\u001b[92m + Requires v1.1.2\u001b[39m\n",
      " \u001b[90m [856f2bd8]\u001b[39m\u001b[93m ↑ StructTypes v1.2.1 ⇒ v1.2.3\u001b[39m\n",
      " \u001b[90m [5e66a065]\u001b[39m\u001b[92m + TableShowUtils v0.2.5\u001b[39m\n",
      " \u001b[90m [382cd787]\u001b[39m\u001b[92m + TableTraitsUtils v1.0.1\u001b[39m\n",
      " \u001b[90m [bd369af6]\u001b[39m\u001b[93m ↑ Tables v1.2.2 ⇒ v1.3.1\u001b[39m\n",
      " \u001b[90m [81def892]\u001b[39m\u001b[92m + VersionParsing v1.2.0\u001b[39m\n",
      " \u001b[90m [fdbf4ff8]\u001b[39m\u001b[92m + XLSX v0.7.6\u001b[39m\n",
      " \u001b[90m [02c8fc9c]\u001b[39m\u001b[92m + XML2_jll v2.9.10+3\u001b[39m\n",
      " \u001b[90m [a5390f91]\u001b[39m\u001b[92m + ZipFile v0.9.3\u001b[39m\n",
      " \u001b[90m [83775a58]\u001b[39m\u001b[92m + Zlib_jll v1.2.11+18\u001b[39m\n"
     ]
    },
    {
     "name": "stderr",
     "output_type": "stream",
     "text": [
      "┌ Info: Precompiling ExcelFiles [89b67f3b-d1aa-5f6f-9ca4-282e8d98620d]\n",
      "└ @ Base loading.jl:1273\n",
      "ERROR: LoadError: LoadError: PyCall not properly installed. Please run Pkg.build(\"PyCall\")\n",
      "Stacktrace:\n",
      " [1] error(::String) at ./error.jl:33\n",
      " [2] top-level scope at /Users/kevin/.julia/packages/PyCall/tqyST/src/startup.jl:44\n",
      " [3] include at ./boot.jl:328 [inlined]\n",
      " [4] include_relative(::Module, ::String) at ./loading.jl:1105\n",
      " [5] include at ./Base.jl:31 [inlined]\n",
      " [6] include(::String) at /Users/kevin/.julia/packages/PyCall/tqyST/src/PyCall.jl:1\n",
      " [7] top-level scope at /Users/kevin/.julia/packages/PyCall/tqyST/src/PyCall.jl:38\n",
      " [8] include at ./boot.jl:328 [inlined]\n",
      " [9] include_relative(::Module, ::String) at ./loading.jl:1105\n",
      " [10] include(::Module, ::String) at ./Base.jl:31\n",
      " [11] top-level scope at none:2\n",
      " [12] eval at ./boot.jl:330 [inlined]\n",
      " [13] eval(::Expr) at ./client.jl:425\n",
      " [14] top-level scope at ./none:3\n",
      "in expression starting at /Users/kevin/.julia/packages/PyCall/tqyST/src/startup.jl:41\n",
      "in expression starting at /Users/kevin/.julia/packages/PyCall/tqyST/src/PyCall.jl:38\n",
      "ERROR: LoadError: Failed to precompile PyCall [438e738f-606a-5dbb-bf0a-cddfbfd45ab0] to /Users/kevin/.julia/compiled/v1.3/PyCall/GkzkC_9Ugli.ji.\n",
      "Stacktrace:\n",
      " [1] error(::String) at ./error.jl:33\n",
      " [2] compilecache(::Base.PkgId, ::String) at ./loading.jl:1283\n",
      " [3] _require(::Base.PkgId) at ./loading.jl:1024\n",
      " [4] require(::Base.PkgId) at ./loading.jl:922\n",
      " [5] require(::Module, ::Symbol) at ./loading.jl:917\n",
      " [6] include at ./boot.jl:328 [inlined]\n",
      " [7] include_relative(::Module, ::String) at ./loading.jl:1105\n",
      " [8] include(::Module, ::String) at ./Base.jl:31\n",
      " [9] top-level scope at none:2\n",
      " [10] eval at ./boot.jl:330 [inlined]\n",
      " [11] eval(::Expr) at ./client.jl:425\n",
      " [12] top-level scope at ./none:3\n",
      "in expression starting at /Users/kevin/.julia/packages/ExcelReaders/PgE1r/src/ExcelReaders.jl:3\n",
      "ERROR: LoadError: Failed to precompile ExcelReaders [c04bee98-12a5-510c-87df-2a230cb6e075] to /Users/kevin/.julia/compiled/v1.3/ExcelReaders/yiZD3_9Ugli.ji.\n",
      "Stacktrace:\n",
      " [1] error(::String) at ./error.jl:33\n",
      " [2] compilecache(::Base.PkgId, ::String) at ./loading.jl:1283\n",
      " [3] _require(::Base.PkgId) at ./loading.jl:1024\n",
      " [4] require(::Base.PkgId) at ./loading.jl:922\n",
      " [5] require(::Module, ::Symbol) at ./loading.jl:917\n",
      " [6] include at ./boot.jl:328 [inlined]\n",
      " [7] include_relative(::Module, ::String) at ./loading.jl:1105\n",
      " [8] include(::Module, ::String) at ./Base.jl:31\n",
      " [9] top-level scope at none:2\n",
      " [10] eval at ./boot.jl:330 [inlined]\n",
      " [11] eval(::Expr) at ./client.jl:425\n",
      " [12] top-level scope at ./none:3\n",
      "in expression starting at /Users/kevin/.julia/packages/ExcelFiles/NtqPa/src/ExcelFiles.jl:4\n"
     ]
    },
    {
     "ename": "ErrorException",
     "evalue": "Failed to precompile ExcelFiles [89b67f3b-d1aa-5f6f-9ca4-282e8d98620d] to /Users/kevin/.julia/compiled/v1.3/ExcelFiles/cZRj4_9Ugli.ji.",
     "output_type": "error",
     "traceback": [
      "Failed to precompile ExcelFiles [89b67f3b-d1aa-5f6f-9ca4-282e8d98620d] to /Users/kevin/.julia/compiled/v1.3/ExcelFiles/cZRj4_9Ugli.ji.",
      "",
      "Stacktrace:",
      " [1] error(::String) at ./error.jl:33",
      " [2] compilecache(::Base.PkgId, ::String) at ./loading.jl:1283",
      " [3] _require(::Base.PkgId) at ./loading.jl:1024",
      " [4] require(::Base.PkgId) at ./loading.jl:922",
      " [5] require(::Module, ::Symbol) at ./loading.jl:917",
      " [6] top-level scope at In[10]:10"
     ]
    }
   ],
   "source": [
    "# dependancies\n",
    "using Pkg\n",
    "#Pkg.add(\"DataFrames\")\n",
    "#Pkg.add(\"GridInterpolations\")\n",
    "Pkg.add(\"ExcelFiles\")\n",
    "#Pkg.add(\"Test\")\n",
    "using DataFrames\n",
    "#using Test\n",
    "using CSV\n",
    "using ExcelFiles\n"
   ]
  },
  {
   "cell_type": "code",
   "execution_count": 9,
   "metadata": {
    "scrolled": true
   },
   "outputs": [
    {
     "name": "stderr",
     "output_type": "stream",
     "text": [
      "WARNING: replacing module Hydraulics.\n"
     ]
    },
    {
     "data": {
      "text/plain": [
       "Main.Hydraulics"
      ]
     },
     "execution_count": 9,
     "metadata": {},
     "output_type": "execute_result"
    }
   ],
   "source": [
    "include(\"/Users/kevin/Jupyter/julia_dev/Hydraulics/src/hydraulics_1.jl\") # my PSV library"
   ]
  },
  {
   "cell_type": "code",
   "execution_count": 4,
   "metadata": {},
   "outputs": [
    {
     "data": {
      "text/html": [
       "<table class=\"data-frame\"><thead><tr><th></th><th>NPS</th></tr><tr><th></th><th>Float64</th></tr></thead><tbody><p>31 rows × 1 columns</p><tr><th>1</th><td>0.125</td></tr><tr><th>2</th><td>0.25</td></tr><tr><th>3</th><td>0.375</td></tr><tr><th>4</th><td>0.5</td></tr><tr><th>5</th><td>0.75</td></tr><tr><th>6</th><td>1.0</td></tr><tr><th>7</th><td>1.25</td></tr><tr><th>8</th><td>1.5</td></tr><tr><th>9</th><td>2.0</td></tr><tr><th>10</th><td>2.5</td></tr><tr><th>11</th><td>3.0</td></tr><tr><th>12</th><td>3.5</td></tr><tr><th>13</th><td>4.0</td></tr><tr><th>14</th><td>5.0</td></tr><tr><th>15</th><td>6.0</td></tr><tr><th>16</th><td>8.0</td></tr><tr><th>17</th><td>10.0</td></tr><tr><th>18</th><td>12.0</td></tr><tr><th>19</th><td>14.0</td></tr><tr><th>20</th><td>16.0</td></tr><tr><th>21</th><td>18.0</td></tr><tr><th>22</th><td>20.0</td></tr><tr><th>23</th><td>22.0</td></tr><tr><th>24</th><td>24.0</td></tr><tr><th>25</th><td>26.0</td></tr><tr><th>26</th><td>28.0</td></tr><tr><th>27</th><td>30.0</td></tr><tr><th>28</th><td>32.0</td></tr><tr><th>29</th><td>36.0</td></tr><tr><th>30</th><td>42.0</td></tr><tr><th>&vellip;</th><td>&vellip;</td></tr></tbody></table>"
      ],
      "text/latex": [
       "\\begin{tabular}{r|c}\n",
       "\t& NPS\\\\\n",
       "\t\\hline\n",
       "\t& Float64\\\\\n",
       "\t\\hline\n",
       "\t1 & 0.125 \\\\\n",
       "\t2 & 0.25 \\\\\n",
       "\t3 & 0.375 \\\\\n",
       "\t4 & 0.5 \\\\\n",
       "\t5 & 0.75 \\\\\n",
       "\t6 & 1.0 \\\\\n",
       "\t7 & 1.25 \\\\\n",
       "\t8 & 1.5 \\\\\n",
       "\t9 & 2.0 \\\\\n",
       "\t10 & 2.5 \\\\\n",
       "\t11 & 3.0 \\\\\n",
       "\t12 & 3.5 \\\\\n",
       "\t13 & 4.0 \\\\\n",
       "\t14 & 5.0 \\\\\n",
       "\t15 & 6.0 \\\\\n",
       "\t16 & 8.0 \\\\\n",
       "\t17 & 10.0 \\\\\n",
       "\t18 & 12.0 \\\\\n",
       "\t19 & 14.0 \\\\\n",
       "\t20 & 16.0 \\\\\n",
       "\t21 & 18.0 \\\\\n",
       "\t22 & 20.0 \\\\\n",
       "\t23 & 22.0 \\\\\n",
       "\t24 & 24.0 \\\\\n",
       "\t25 & 26.0 \\\\\n",
       "\t26 & 28.0 \\\\\n",
       "\t27 & 30.0 \\\\\n",
       "\t28 & 32.0 \\\\\n",
       "\t29 & 36.0 \\\\\n",
       "\t30 & 42.0 \\\\\n",
       "\t$\\dots$ & $\\dots$ \\\\\n",
       "\\end{tabular}\n"
      ],
      "text/plain": [
       "\u001b[1m31×1 DataFrame\u001b[0m\n",
       "\u001b[1m Row \u001b[0m│\u001b[1m NPS     \u001b[0m\n",
       "\u001b[1m     \u001b[0m│\u001b[90m Float64 \u001b[0m\n",
       "─────┼─────────\n",
       "   1 │   0.125\n",
       "   2 │   0.25\n",
       "   3 │   0.375\n",
       "   4 │   0.5\n",
       "   5 │   0.75\n",
       "   6 │   1.0\n",
       "   7 │   1.25\n",
       "   8 │   1.5\n",
       "   9 │   2.0\n",
       "  10 │   2.5\n",
       "  11 │   3.0\n",
       "  ⋮  │    ⋮\n",
       "  22 │  20.0\n",
       "  23 │  22.0\n",
       "  24 │  24.0\n",
       "  25 │  26.0\n",
       "  26 │  28.0\n",
       "  27 │  30.0\n",
       "  28 │  32.0\n",
       "  29 │  36.0\n",
       "  30 │  42.0\n",
       "  31 │  48.0\n",
       "\u001b[31m10 rows omitted\u001b[0m"
      ]
     },
     "execution_count": 4,
     "metadata": {},
     "output_type": "execute_result"
    }
   ],
   "source": [
    "# test the global variable containing the list of nominal pipe sizes\n",
    "Hydraulics.npsList"
   ]
  },
  {
   "cell_type": "code",
   "execution_count": 6,
   "metadata": {},
   "outputs": [
    {
     "ename": "UndefVarError",
     "evalue": "UndefVarError: ExcelFiles not defined",
     "output_type": "error",
     "traceback": [
      "UndefVarError: ExcelFiles not defined",
      "",
      "Stacktrace:",
      " [1] top-level scope at In[6]:1"
     ]
    }
   ],
   "source": [
    "# these are the specific data\n",
    "lineSizing = DataFrame(ExcelFiles.load(\"hydraulicDescription_2.xlsx\", \"sizing\"))\n",
    "lines = DataFrame(ExcelFiles.load(\"hydraulicDescription_2.xlsx\", \"lineDescription\"))\n",
    "fluidList = DataFrame(ExcelFiles.load(\"hydraulicDescription_2.xlsx\", \"fluidList\"))\n",
    "fittingList = DataFrame(ExcelFiles.load(\"hydraulicDescription_2.xlsx\", \"fittingList\"));"
   ]
  },
  {
   "cell_type": "code",
   "execution_count": 46,
   "metadata": {},
   "outputs": [
    {
     "data": {
      "text/html": [
       "<table class=\"data-frame\"><thead><tr><th></th><th>Segment</th><th>subSegment</th><th>Description</th><th>LineTag</th><th>NPS</th><th>Schedule</th><th>Material</th></tr><tr><th></th><th>String</th><th>String</th><th>String</th><th>String</th><th>Float64</th><th>String</th><th>String</th></tr></thead><tbody><p>2 rows × 11 columns (omitted printing of 4 columns)</p><tr><th>1</th><td>A</td><td>blank</td><td>our Line</td><td>L-001</td><td>10.0</td><td>STD</td><td>Commercial steel</td></tr><tr><th>2</th><td>B</td><td>blank</td><td>another</td><td>L-002</td><td>8.0</td><td>STD</td><td>Commercial steel</td></tr></tbody></table>"
      ],
      "text/latex": [
       "\\begin{tabular}{r|cccccccc}\n",
       "\t& Segment & subSegment & Description & LineTag & NPS & Schedule & Material & \\\\\n",
       "\t\\hline\n",
       "\t& String & String & String & String & Float64 & String & String & \\\\\n",
       "\t\\hline\n",
       "\t1 & A & blank & our Line & L-001 & 10.0 & STD & Commercial steel & $\\dots$ \\\\\n",
       "\t2 & B & blank & another & L-002 & 8.0 & STD & Commercial steel & $\\dots$ \\\\\n",
       "\\end{tabular}\n"
      ],
      "text/plain": [
       "2×11 DataFrame. Omitted printing of 5 columns\n",
       "│ Row │ Segment │ subSegment │ Description │ LineTag │ NPS     │ Schedule │\n",
       "│     │ \u001b[90mString\u001b[39m  │ \u001b[90mString\u001b[39m     │ \u001b[90mString\u001b[39m      │ \u001b[90mString\u001b[39m  │ \u001b[90mFloat64\u001b[39m │ \u001b[90mString\u001b[39m   │\n",
       "├─────┼─────────┼────────────┼─────────────┼─────────┼─────────┼──────────┤\n",
       "│ 1   │ A       │ blank      │ our Line    │ L-001   │ 10.0    │ STD      │\n",
       "│ 2   │ B       │ blank      │ another     │ L-002   │ 8.0     │ STD      │"
      ]
     },
     "execution_count": 46,
     "metadata": {},
     "output_type": "execute_result"
    }
   ],
   "source": [
    "lines"
   ]
  },
  {
   "cell_type": "code",
   "execution_count": 47,
   "metadata": {
    "scrolled": true
   },
   "outputs": [
    {
     "data": {
      "text/html": [
       "<table class=\"data-frame\"><thead><tr><th></th><th>message</th><th>entry</th><th>Segment</th><th>NPS</th><th>SCHED</th><th>material</th><th>fluidName</th></tr><tr><th></th><th>String</th><th>Int64</th><th>String</th><th>Float64</th><th>String</th><th>String</th><th>String</th></tr></thead><tbody><p>0 rows × 7 columns</p></tbody></table>"
      ],
      "text/latex": [
       "\\begin{tabular}{r|ccccccc}\n",
       "\t& message & entry & Segment & NPS & SCHED & material & fluidName\\\\\n",
       "\t\\hline\n",
       "\t& String & Int64 & String & Float64 & String & String & String\\\\\n",
       "\t\\hline\n",
       "\\end{tabular}\n"
      ],
      "text/plain": [
       "0×7 DataFrame\n"
      ]
     },
     "execution_count": 47,
     "metadata": {},
     "output_type": "execute_result"
    }
   ],
   "source": [
    "hydraulics.checkLineList(lines,fluidList)"
   ]
  },
  {
   "cell_type": "code",
   "execution_count": 48,
   "metadata": {},
   "outputs": [
    {
     "data": {
      "text/plain": [
       "0.0"
      ]
     },
     "execution_count": 48,
     "metadata": {},
     "output_type": "execute_result"
    }
   ],
   "source": [
    "hydraulics.addFluidProperties(lineSizing,fluidList)\n",
    "hydraulics.addFluidProperties(lines,fluidList)\n",
    "\n",
    "hydraulics.addPipeProperties(lines)\n",
    "\n"
   ]
  },
  {
   "cell_type": "code",
   "execution_count": 49,
   "metadata": {},
   "outputs": [
    {
     "data": {
      "text/html": [
       "<table class=\"data-frame\"><thead><tr><th></th><th>mmDP100</th><th>mmErosion</th><th>mmNeeded</th></tr><tr><th></th><th>Float64</th><th>Float64</th><th>Float64</th></tr></thead><tbody><p>4 rows × 3 columns</p><tr><th>1</th><td>293.178</td><td>314.414</td><td>314.414</td></tr><tr><th>2</th><td>66.121</td><td>60.752</td><td>66.121</td></tr><tr><th>3</th><td>22.6721</td><td>6.80462</td><td>22.6721</td></tr><tr><th>4</th><td>15.3859</td><td>6.80462</td><td>15.3859</td></tr></tbody></table>"
      ],
      "text/latex": [
       "\\begin{tabular}{r|ccc}\n",
       "\t& mmDP100 & mmErosion & mmNeeded\\\\\n",
       "\t\\hline\n",
       "\t& Float64 & Float64 & Float64\\\\\n",
       "\t\\hline\n",
       "\t1 & 293.178 & 314.414 & 314.414 \\\\\n",
       "\t2 & 66.121 & 60.752 & 66.121 \\\\\n",
       "\t3 & 22.6721 & 6.80462 & 22.6721 \\\\\n",
       "\t4 & 15.3859 & 6.80462 & 15.3859 \\\\\n",
       "\\end{tabular}\n"
      ],
      "text/plain": [
       "4×3 DataFrame\n",
       "│ Row │ mmDP100 │ mmErosion │ mmNeeded │\n",
       "│     │ \u001b[90mFloat64\u001b[39m │ \u001b[90mFloat64\u001b[39m   │ \u001b[90mFloat64\u001b[39m  │\n",
       "├─────┼─────────┼───────────┼──────────┤\n",
       "│ 1   │ 293.178 │ 314.414   │ 314.414  │\n",
       "│ 2   │ 66.121  │ 60.752    │ 66.121   │\n",
       "│ 3   │ 22.6721 │ 6.80462   │ 22.6721  │\n",
       "│ 4   │ 15.3859 │ 6.80462   │ 15.3859  │"
      ]
     },
     "execution_count": 49,
     "metadata": {},
     "output_type": "execute_result"
    }
   ],
   "source": [
    "myLineSize = hydraulics.getLineSize(lineSizing)"
   ]
  },
  {
   "cell_type": "code",
   "execution_count": 50,
   "metadata": {},
   "outputs": [
    {
     "data": {
      "text/html": [
       "<table class=\"data-frame\"><thead><tr><th></th><th>Segment</th><th>velocity_ms</th><th>rho_kgm3</th><th>Re</th><th>frictF</th><th>IDmm</th><th>IDinch</th></tr><tr><th></th><th>String</th><th>Float64</th><th>Float64</th><th>Float64</th><th>Float64</th><th>Float64</th><th>Float64</th></tr></thead><tbody><p>2 rows × 7 columns</p><tr><th>1</th><td>A</td><td>0.655259</td><td>1000.0</td><td>1.51603e5</td><td>0.0179217</td><td>254.5</td><td>10.0197</td></tr><tr><th>2</th><td>B</td><td>1.03295</td><td>500.0</td><td>1.0469e6</td><td>0.0158903</td><td>202.7</td><td>7.98031</td></tr></tbody></table>"
      ],
      "text/latex": [
       "\\begin{tabular}{r|ccccccc}\n",
       "\t& Segment & velocity\\_ms & rho\\_kgm3 & Re & frictF & IDmm & IDinch\\\\\n",
       "\t\\hline\n",
       "\t& String & Float64 & Float64 & Float64 & Float64 & Float64 & Float64\\\\\n",
       "\t\\hline\n",
       "\t1 & A & 0.655259 & 1000.0 & 1.51603e5 & 0.0179217 & 254.5 & 10.0197 \\\\\n",
       "\t2 & B & 1.03295 & 500.0 & 1.0469e6 & 0.0158903 & 202.7 & 7.98031 \\\\\n",
       "\\end{tabular}\n"
      ],
      "text/plain": [
       "2×7 DataFrame. Omitted printing of 1 columns\n",
       "│ Row │ Segment │ velocity_ms │ rho_kgm3 │ Re        │ frictF    │ IDmm    │\n",
       "│     │ \u001b[90mString\u001b[39m  │ \u001b[90mFloat64\u001b[39m     │ \u001b[90mFloat64\u001b[39m  │ \u001b[90mFloat64\u001b[39m   │ \u001b[90mFloat64\u001b[39m   │ \u001b[90mFloat64\u001b[39m │\n",
       "├─────┼─────────┼─────────────┼──────────┼───────────┼───────────┼─────────┤\n",
       "│ 1   │ A       │ 0.655259    │ 1000.0   │ 1.51603e5 │ 0.0179217 │ 254.5   │\n",
       "│ 2   │ B       │ 1.03295     │ 500.0    │ 1.0469e6  │ 0.0158903 │ 202.7   │"
      ]
     },
     "execution_count": 50,
     "metadata": {},
     "output_type": "execute_result"
    }
   ],
   "source": [
    "prelim = hydraulics.getPreliminaries(lines)"
   ]
  },
  {
   "cell_type": "markdown",
   "metadata": {},
   "source": [
    "How should I calculate the DP for each segement? I think I should use the preliminaries to calculate the DP for each entry in the fitting list. Then I can sum the values.\n",
    "\n",
    "\n",
    "Note that\n",
    "$$\n",
    "K = \\frac{K_m}{Re} + K_{\\inf} \\left(1 + \\frac{K_D}{D^{0.3}_{inch}} \\right)\n",
    "$$\n",
    "\n",
    "For pipe I need\n",
    "$$\n",
    "K = f \\frac{L}{D}\n",
    "$$\n",
    "\n",
    "Easy. I need another value for K, call it Kp = 1 for pipe and zero for fitting.\n",
    "\n",
    "Now I need to pass the "
   ]
  },
  {
   "cell_type": "code",
   "execution_count": 51,
   "metadata": {},
   "outputs": [
    {
     "data": {
      "text/html": [
       "<table class=\"data-frame\"><thead><tr><th></th><th>Segment</th><th>subSegment</th><th>Description</th><th>LineTag</th><th>NPS</th><th>Schedule</th><th>Material</th></tr><tr><th></th><th>String</th><th>String</th><th>String</th><th>String</th><th>Float64</th><th>String</th><th>String</th></tr></thead><tbody><p>2 rows × 15 columns (omitted printing of 8 columns)</p><tr><th>1</th><td>A</td><td>blank</td><td>our Line</td><td>L-001</td><td>10.0</td><td>STD</td><td>Commercial steel</td></tr><tr><th>2</th><td>B</td><td>blank</td><td>another</td><td>L-002</td><td>8.0</td><td>STD</td><td>Commercial steel</td></tr></tbody></table>"
      ],
      "text/latex": [
       "\\begin{tabular}{r|cccccccc}\n",
       "\t& Segment & subSegment & Description & LineTag & NPS & Schedule & Material & \\\\\n",
       "\t\\hline\n",
       "\t& String & String & String & String & Float64 & String & String & \\\\\n",
       "\t\\hline\n",
       "\t1 & A & blank & our Line & L-001 & 10.0 & STD & Commercial steel & $\\dots$ \\\\\n",
       "\t2 & B & blank & another & L-002 & 8.0 & STD & Commercial steel & $\\dots$ \\\\\n",
       "\\end{tabular}\n"
      ],
      "text/plain": [
       "2×15 DataFrame. Omitted printing of 9 columns\n",
       "│ Row │ Segment │ subSegment │ Description │ LineTag │ NPS     │ Schedule │\n",
       "│     │ \u001b[90mString\u001b[39m  │ \u001b[90mString\u001b[39m     │ \u001b[90mString\u001b[39m      │ \u001b[90mString\u001b[39m  │ \u001b[90mFloat64\u001b[39m │ \u001b[90mString\u001b[39m   │\n",
       "├─────┼─────────┼────────────┼─────────────┼─────────┼─────────┼──────────┤\n",
       "│ 1   │ A       │ blank      │ our Line    │ L-001   │ 10.0    │ STD      │\n",
       "│ 2   │ B       │ blank      │ another     │ L-002   │ 8.0     │ STD      │"
      ]
     },
     "execution_count": 51,
     "metadata": {},
     "output_type": "execute_result"
    }
   ],
   "source": [
    "lines"
   ]
  },
  {
   "cell_type": "code",
   "execution_count": 52,
   "metadata": {},
   "outputs": [
    {
     "data": {
      "text/html": [
       "<table class=\"data-frame\"><thead><tr><th></th><th>Segment</th><th>Kp</th><th>DPkpa</th></tr><tr><th></th><th>String</th><th>Float64</th><th>Float64</th></tr></thead><tbody><p>3 rows × 3 columns</p><tr><th>1</th><td>A</td><td>0.0</td><td>0.0960335</td></tr><tr><th>2</th><td>A</td><td>1.0</td><td>0.831478</td></tr><tr><th>3</th><td>B</td><td>1.0</td><td>2.09113</td></tr></tbody></table>"
      ],
      "text/latex": [
       "\\begin{tabular}{r|ccc}\n",
       "\t& Segment & Kp & DPkpa\\\\\n",
       "\t\\hline\n",
       "\t& String & Float64 & Float64\\\\\n",
       "\t\\hline\n",
       "\t1 & A & 0.0 & 0.0960335 \\\\\n",
       "\t2 & A & 1.0 & 0.831478 \\\\\n",
       "\t3 & B & 1.0 & 2.09113 \\\\\n",
       "\\end{tabular}\n"
      ],
      "text/plain": [
       "3×3 DataFrame\n",
       "│ Row │ Segment │ Kp      │ DPkpa     │\n",
       "│     │ \u001b[90mString\u001b[39m  │ \u001b[90mFloat64\u001b[39m │ \u001b[90mFloat64\u001b[39m   │\n",
       "├─────┼─────────┼─────────┼───────────┤\n",
       "│ 1   │ A       │ 0.0     │ 0.0960335 │\n",
       "│ 2   │ A       │ 1.0     │ 0.831478  │\n",
       "│ 3   │ B       │ 1.0     │ 2.09113   │"
      ]
     },
     "execution_count": 52,
     "metadata": {},
     "output_type": "execute_result"
    }
   ],
   "source": [
    "myDP2 = hydraulics.elementDP(lines,fittingList)"
   ]
  },
  {
   "cell_type": "code",
   "execution_count": 54,
   "metadata": {},
   "outputs": [
    {
     "data": {
      "text/html": [
       "<table class=\"data-frame\"><thead><tr><th></th><th>Segment</th><th>DPkpa</th></tr><tr><th></th><th>String</th><th>Float64</th></tr></thead><tbody><p>2 rows × 2 columns</p><tr><th>1</th><td>A</td><td>0.927511</td></tr><tr><th>2</th><td>B</td><td>2.09113</td></tr></tbody></table>"
      ],
      "text/latex": [
       "\\begin{tabular}{r|cc}\n",
       "\t& Segment & DPkpa\\\\\n",
       "\t\\hline\n",
       "\t& String & Float64\\\\\n",
       "\t\\hline\n",
       "\t1 & A & 0.927511 \\\\\n",
       "\t2 & B & 2.09113 \\\\\n",
       "\\end{tabular}\n"
      ],
      "text/plain": [
       "2×2 DataFrame\n",
       "│ Row │ Segment │ DPkpa    │\n",
       "│     │ \u001b[90mString\u001b[39m  │ \u001b[90mFloat64\u001b[39m  │\n",
       "├─────┼─────────┼──────────┤\n",
       "│ 1   │ A       │ 0.927511 │\n",
       "│ 2   │ B       │ 2.09113  │"
      ]
     },
     "execution_count": 54,
     "metadata": {},
     "output_type": "execute_result"
    }
   ],
   "source": [
    "hydraulics.compileDP2(lines,myDP2)"
   ]
  },
  {
   "cell_type": "code",
   "execution_count": null,
   "metadata": {},
   "outputs": [],
   "source": []
  }
 ],
 "metadata": {
  "kernelspec": {
   "display_name": "Julia 1.3.1",
   "language": "julia",
   "name": "julia-1.3"
  },
  "language_info": {
   "file_extension": ".jl",
   "mimetype": "application/julia",
   "name": "julia",
   "version": "1.3.1"
  }
 },
 "nbformat": 4,
 "nbformat_minor": 2
}
