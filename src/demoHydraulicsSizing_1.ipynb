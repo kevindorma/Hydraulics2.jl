{
 "cells": [
  {
   "cell_type": "markdown",
   "metadata": {},
   "source": [
    "# Example Calculation\n",
    "## Client: INTERNAL\n",
    "---\n",
    "## Project: develop hydraulic tools\n",
    "## Calc: CALC-002, hydraulic sizing calculations\n",
    "---\n",
    "## Authentication\n",
    "> Stamp, Permit\n",
    "---\n",
    "## Revision History\n",
    "|Revision | Date | Description | By | Reviewer|\n",
    "| :-------| :----|:------------|:---|:--------|\n",
    "|       | | DRAFT | KCD |  |\n",
    "|         |          |            |     |    |\n",
    "\n",
    "---"
   ]
  },
  {
   "cell_type": "markdown",
   "metadata": {},
   "source": [
    "## Introduction"
   ]
  },
  {
   "cell_type": "code",
   "execution_count": 37,
   "metadata": {
    "scrolled": true
   },
   "outputs": [
    {
     "name": "stdout",
     "output_type": "stream",
     "text": [
      "\u001b[32m\u001b[1m  Updating\u001b[22m\u001b[39m git-repo `https://github.com/kevindorma/Hydraulics2.jl`\n",
      "\u001b[?25l\u001b[2K\u001b[?25h\u001b[32m\u001b[1m  Updating\u001b[22m\u001b[39m git-repo `https://github.com/kevindorma/Hydraulics2.jl`\n",
      "\u001b[?25l\u001b[2K\u001b[?25h\u001b[32m\u001b[1m Resolving\u001b[22m\u001b[39m package versions...\n",
      "\u001b[32m\u001b[1m  Updating\u001b[22m\u001b[39m `~/.julia/environments/v1.3/Project.toml`\n",
      "\u001b[90m [no changes]\u001b[39m\n",
      "\u001b[32m\u001b[1m  Updating\u001b[22m\u001b[39m `~/.julia/environments/v1.3/Manifest.toml`\n",
      "\u001b[90m [no changes]\u001b[39m\n"
     ]
    }
   ],
   "source": [
    "# dependancies\n",
    "using Pkg\n",
    "#Pkg.add(\"DataFrames\")\n",
    "#Pkg.add(\"GridInterpolations\")\n",
    "#Pkg.add(\"Test\")\n",
    "\n",
    "# module is called Hydraulics2\n",
    "Pkg.add(PackageSpec(url=\"https://github.com/kevindorma/Hydraulics2.jl\"))\n",
    "\n",
    "using DataFrames\n",
    "#using GridInterpolations\n",
    "#using Test\n",
    "using CSV\n",
    "using ExcelFiles\n",
    "using Hydraulics2\n",
    "\n",
    "#include(\"/Users/kevin/.julia/dev/Hydraulics/src/Hydraulics2.jl\") # my hydraulic libary\n",
    "\n"
   ]
  },
  {
   "cell_type": "markdown",
   "metadata": {},
   "source": [
    "List a common utility table."
   ]
  },
  {
   "cell_type": "code",
   "execution_count": 38,
   "metadata": {
    "scrolled": false
   },
   "outputs": [
    {
     "data": {
      "text/html": [
       "<table class=\"data-frame\"><thead><tr><th></th><th>NPS</th><th>Schedule</th><th>Idmm</th></tr><tr><th></th><th>Float64</th><th>String</th><th>Float64</th></tr></thead><tbody><p>250 rows × 3 columns</p><tr><th>1</th><td>0.125</td><td>OD</td><td>10.287</td></tr><tr><th>2</th><td>0.25</td><td>OD</td><td>13.716</td></tr><tr><th>3</th><td>0.375</td><td>OD</td><td>17.145</td></tr><tr><th>4</th><td>0.5</td><td>OD</td><td>21.336</td></tr><tr><th>5</th><td>0.75</td><td>OD</td><td>26.67</td></tr><tr><th>6</th><td>1.0</td><td>OD</td><td>33.401</td></tr><tr><th>7</th><td>1.25</td><td>OD</td><td>42.164</td></tr><tr><th>8</th><td>1.5</td><td>OD</td><td>48.26</td></tr><tr><th>9</th><td>2.0</td><td>OD</td><td>60.325</td></tr><tr><th>10</th><td>2.5</td><td>OD</td><td>73.025</td></tr><tr><th>11</th><td>3.0</td><td>OD</td><td>88.9</td></tr><tr><th>12</th><td>3.5</td><td>OD</td><td>101.6</td></tr><tr><th>13</th><td>4.0</td><td>OD</td><td>114.3</td></tr><tr><th>14</th><td>5.0</td><td>OD</td><td>141.3</td></tr><tr><th>15</th><td>6.0</td><td>OD</td><td>168.275</td></tr><tr><th>16</th><td>8.0</td><td>OD</td><td>219.075</td></tr><tr><th>17</th><td>10.0</td><td>OD</td><td>273.05</td></tr><tr><th>18</th><td>12.0</td><td>OD</td><td>323.85</td></tr><tr><th>19</th><td>14.0</td><td>OD</td><td>355.6</td></tr><tr><th>20</th><td>16.0</td><td>OD</td><td>406.4</td></tr><tr><th>21</th><td>18.0</td><td>OD</td><td>457.2</td></tr><tr><th>22</th><td>20.0</td><td>OD</td><td>508.0</td></tr><tr><th>23</th><td>22.0</td><td>OD</td><td>558.8</td></tr><tr><th>24</th><td>24.0</td><td>OD</td><td>609.6</td></tr><tr><th>25</th><td>26.0</td><td>OD</td><td>660.4</td></tr><tr><th>26</th><td>28.0</td><td>OD</td><td>711.2</td></tr><tr><th>27</th><td>30.0</td><td>OD</td><td>762.0</td></tr><tr><th>28</th><td>32.0</td><td>OD</td><td>812.8</td></tr><tr><th>29</th><td>36.0</td><td>OD</td><td>914.4</td></tr><tr><th>30</th><td>42.0</td><td>OD</td><td>1066.8</td></tr><tr><th>&vellip;</th><td>&vellip;</td><td>&vellip;</td><td>&vellip;</td></tr></tbody></table>"
      ],
      "text/latex": [
       "\\begin{tabular}{r|ccc}\n",
       "\t& NPS & Schedule & Idmm\\\\\n",
       "\t\\hline\n",
       "\t& Float64 & String & Float64\\\\\n",
       "\t\\hline\n",
       "\t1 & 0.125 & OD & 10.287 \\\\\n",
       "\t2 & 0.25 & OD & 13.716 \\\\\n",
       "\t3 & 0.375 & OD & 17.145 \\\\\n",
       "\t4 & 0.5 & OD & 21.336 \\\\\n",
       "\t5 & 0.75 & OD & 26.67 \\\\\n",
       "\t6 & 1.0 & OD & 33.401 \\\\\n",
       "\t7 & 1.25 & OD & 42.164 \\\\\n",
       "\t8 & 1.5 & OD & 48.26 \\\\\n",
       "\t9 & 2.0 & OD & 60.325 \\\\\n",
       "\t10 & 2.5 & OD & 73.025 \\\\\n",
       "\t11 & 3.0 & OD & 88.9 \\\\\n",
       "\t12 & 3.5 & OD & 101.6 \\\\\n",
       "\t13 & 4.0 & OD & 114.3 \\\\\n",
       "\t14 & 5.0 & OD & 141.3 \\\\\n",
       "\t15 & 6.0 & OD & 168.275 \\\\\n",
       "\t16 & 8.0 & OD & 219.075 \\\\\n",
       "\t17 & 10.0 & OD & 273.05 \\\\\n",
       "\t18 & 12.0 & OD & 323.85 \\\\\n",
       "\t19 & 14.0 & OD & 355.6 \\\\\n",
       "\t20 & 16.0 & OD & 406.4 \\\\\n",
       "\t21 & 18.0 & OD & 457.2 \\\\\n",
       "\t22 & 20.0 & OD & 508.0 \\\\\n",
       "\t23 & 22.0 & OD & 558.8 \\\\\n",
       "\t24 & 24.0 & OD & 609.6 \\\\\n",
       "\t25 & 26.0 & OD & 660.4 \\\\\n",
       "\t26 & 28.0 & OD & 711.2 \\\\\n",
       "\t27 & 30.0 & OD & 762.0 \\\\\n",
       "\t28 & 32.0 & OD & 812.8 \\\\\n",
       "\t29 & 36.0 & OD & 914.4 \\\\\n",
       "\t30 & 42.0 & OD & 1066.8 \\\\\n",
       "\t$\\dots$ & $\\dots$ & $\\dots$ & $\\dots$ \\\\\n",
       "\\end{tabular}\n"
      ],
      "text/plain": [
       "250×3 DataFrame\n",
       "│ Row │ NPS     │ Schedule │ Idmm    │\n",
       "│     │ \u001b[90mFloat64\u001b[39m │ \u001b[90mString\u001b[39m   │ \u001b[90mFloat64\u001b[39m │\n",
       "├─────┼─────────┼──────────┼─────────┤\n",
       "│ 1   │ 0.125   │ OD       │ 10.287  │\n",
       "│ 2   │ 0.25    │ OD       │ 13.716  │\n",
       "│ 3   │ 0.375   │ OD       │ 17.145  │\n",
       "│ 4   │ 0.5     │ OD       │ 21.336  │\n",
       "│ 5   │ 0.75    │ OD       │ 26.67   │\n",
       "│ 6   │ 1.0     │ OD       │ 33.401  │\n",
       "│ 7   │ 1.25    │ OD       │ 42.164  │\n",
       "│ 8   │ 1.5     │ OD       │ 48.26   │\n",
       "│ 9   │ 2.0     │ OD       │ 60.325  │\n",
       "│ 10  │ 2.5     │ OD       │ 73.025  │\n",
       "⋮\n",
       "│ 240 │ 4.0     │ SCH160   │ 87.3    │\n",
       "│ 241 │ 5.0     │ SCH160   │ 109.5   │\n",
       "│ 242 │ 6.0     │ SCH160   │ 131.7   │\n",
       "│ 243 │ 8.0     │ SCH160   │ 173.1   │\n",
       "│ 244 │ 10.0    │ SCH160   │ 215.9   │\n",
       "│ 245 │ 12.0    │ SCH160   │ 257.3   │\n",
       "│ 246 │ 14.0    │ SCH160   │ 284.18  │\n",
       "│ 247 │ 16.0    │ SCH160   │ 325.42  │\n",
       "│ 248 │ 18.0    │ SCH160   │ 366.72  │\n",
       "│ 249 │ 20.0    │ SCH160   │ 407.98  │\n",
       "│ 250 │ 24.0    │ SCH160   │ 490.52  │"
      ]
     },
     "execution_count": 38,
     "metadata": {},
     "output_type": "execute_result"
    }
   ],
   "source": [
    "Hydraulics2.IDmm"
   ]
  },
  {
   "cell_type": "markdown",
   "metadata": {},
   "source": [
    "## Format of input data\n",
    "Input data is required the following tables.\n",
    "* fluidList: this tabulates fluid density and viscosity for a given fluid. Used for sizing and hydraulic calculations.\n",
    "\n",
    "Sizing\n",
    "* Put the sizing information in the table lineSizing. A spreadsheet is very convenient becauase it allows one to use descriptors for properties (such as fluid type, pipe material, pipe schedule).\n",
    "\n",
    "Hydraulics\n",
    "* Need a table (lines) for describing overall conditions for each line segment.\n",
    "* also need a table (fittingList) for listing all of the piping components in each line segment.\n",
    "\n",
    "A spreadsheet is very convenient for tabulating the input data. Dropdown menus are used to ensure inputs are correct (fluid type, NPS, pipe schedule). Then the hydraulic calculations are performed using the input data in the spreadsheet.\n",
    "\n"
   ]
  },
  {
   "cell_type": "code",
   "execution_count": 39,
   "metadata": {},
   "outputs": [],
   "source": [
    "# these are the specific data\n",
    "lineSizing = DataFrame(load(\"sizingHydraulicSample_rev_1.xlsx\", \"sizing\"))\n",
    "#lineHydraulics = DataFrame(load(\"sizingHydraulicSample_rev_1.xlsx\", \"hydraulics\"))\n",
    "fluidList = DataFrame(load(\"sizingHydraulicSample_rev_1.xlsx\", \"fluidList\"))\n",
    "#fittingList = DataFrame(load(\"sizingHydraulicSample_rev_1.xlsx\", \"fittingList\"));"
   ]
  },
  {
   "cell_type": "markdown",
   "metadata": {},
   "source": [
    "## Check input tables for inconsistancies"
   ]
  },
  {
   "cell_type": "code",
   "execution_count": 40,
   "metadata": {
    "scrolled": false
   },
   "outputs": [
    {
     "data": {
      "text/html": [
       "<table class=\"data-frame\"><thead><tr><th></th><th>message</th><th>entry</th><th>Segment</th><th>NPS</th><th>Schedule</th><th>material</th><th>fluidName</th></tr><tr><th></th><th>String</th><th>Int64</th><th>String</th><th>Float64</th><th>String</th><th>String</th><th>String</th></tr></thead><tbody><p>0 rows × 7 columns</p></tbody></table>"
      ],
      "text/latex": [
       "\\begin{tabular}{r|ccccccc}\n",
       "\t& message & entry & Segment & NPS & Schedule & material & fluidName\\\\\n",
       "\t\\hline\n",
       "\t& String & Int64 & String & Float64 & String & String & String\\\\\n",
       "\t\\hline\n",
       "\\end{tabular}\n"
      ],
      "text/plain": [
       "0×7 DataFrame\n"
      ]
     },
     "execution_count": 40,
     "metadata": {},
     "output_type": "execute_result"
    }
   ],
   "source": [
    "Hydraulics2.checkLineList(lineSizing,fluidList)"
   ]
  },
  {
   "cell_type": "code",
   "execution_count": 41,
   "metadata": {},
   "outputs": [],
   "source": [
    "Hydraulics2.pipeRoughness;"
   ]
  },
  {
   "cell_type": "markdown",
   "metadata": {},
   "source": [
    "## Line Sizing\n",
    "\n",
    "The spreadsheet hydraulicDescription_2.xls contains the data needed for line sizing."
   ]
  },
  {
   "cell_type": "code",
   "execution_count": 42,
   "metadata": {
    "scrolled": true
   },
   "outputs": [
    {
     "data": {
      "text/html": [
       "<table class=\"data-frame\"><thead><tr><th></th><th>Segment</th><th>mmDP100</th><th>mmErosion</th><th>mmNeeded</th><th>Schedule</th></tr><tr><th></th><th>String</th><th>Float64</th><th>Float64</th><th>Float64</th><th>String</th></tr></thead><tbody><p>4 rows × 5 columns</p><tr><th>1</th><td>A</td><td>295.871</td><td>318.281</td><td>318.281</td><td>STD</td></tr><tr><th>2</th><td>B</td><td>66.0907</td><td>60.8437</td><td>66.0907</td><td>STD</td></tr><tr><th>3</th><td>C</td><td>53.1497</td><td>21.183</td><td>53.1497</td><td>STD</td></tr><tr><th>4</th><td>D</td><td>43.9973</td><td>27.3472</td><td>43.9973</td><td>STD</td></tr></tbody></table>"
      ],
      "text/latex": [
       "\\begin{tabular}{r|ccccc}\n",
       "\t& Segment & mmDP100 & mmErosion & mmNeeded & Schedule\\\\\n",
       "\t\\hline\n",
       "\t& String & Float64 & Float64 & Float64 & String\\\\\n",
       "\t\\hline\n",
       "\t1 & A & 295.871 & 318.281 & 318.281 & STD \\\\\n",
       "\t2 & B & 66.0907 & 60.8437 & 66.0907 & STD \\\\\n",
       "\t3 & C & 53.1497 & 21.183 & 53.1497 & STD \\\\\n",
       "\t4 & D & 43.9973 & 27.3472 & 43.9973 & STD \\\\\n",
       "\\end{tabular}\n"
      ],
      "text/plain": [
       "4×5 DataFrame\n",
       "│ Row │ Segment │ mmDP100 │ mmErosion │ mmNeeded │ Schedule │\n",
       "│     │ \u001b[90mString\u001b[39m  │ \u001b[90mFloat64\u001b[39m │ \u001b[90mFloat64\u001b[39m   │ \u001b[90mFloat64\u001b[39m  │ \u001b[90mString\u001b[39m   │\n",
       "├─────┼─────────┼─────────┼───────────┼──────────┼──────────┤\n",
       "│ 1   │ A       │ 295.871 │ 318.281   │ 318.281  │ STD      │\n",
       "│ 2   │ B       │ 66.0907 │ 60.8437   │ 66.0907  │ STD      │\n",
       "│ 3   │ C       │ 53.1497 │ 21.183    │ 53.1497  │ STD      │\n",
       "│ 4   │ D       │ 43.9973 │ 27.3472   │ 43.9973  │ STD      │"
      ]
     },
     "execution_count": 42,
     "metadata": {},
     "output_type": "execute_result"
    }
   ],
   "source": [
    "myLineSize = Hydraulics2.getLineSize(lineSizing, fluidList)"
   ]
  },
  {
   "cell_type": "markdown",
   "metadata": {},
   "source": [
    "## Line Sizing\n",
    "\n",
    "Get the next larger line sizes from the NPS list."
   ]
  },
  {
   "cell_type": "code",
   "execution_count": 43,
   "metadata": {
    "scrolled": false
   },
   "outputs": [
    {
     "data": {
      "text/html": [
       "<table class=\"data-frame\"><thead><tr><th></th><th>Segment</th><th>NPS</th><th>Schedule</th><th>IDmm</th></tr><tr><th></th><th>String</th><th>Float64</th><th>String</th><th>Float64</th></tr></thead><tbody><p>4 rows × 4 columns</p><tr><th>1</th><td>A</td><td>14.0</td><td>STD</td><td>336.54</td></tr><tr><th>2</th><td>B</td><td>3.0</td><td>STD</td><td>77.9</td></tr><tr><th>3</th><td>C</td><td>2.5</td><td>STD</td><td>62.6</td></tr><tr><th>4</th><td>D</td><td>2.0</td><td>STD</td><td>52.5</td></tr></tbody></table>"
      ],
      "text/latex": [
       "\\begin{tabular}{r|cccc}\n",
       "\t& Segment & NPS & Schedule & IDmm\\\\\n",
       "\t\\hline\n",
       "\t& String & Float64 & String & Float64\\\\\n",
       "\t\\hline\n",
       "\t1 & A & 14.0 & STD & 336.54 \\\\\n",
       "\t2 & B & 3.0 & STD & 77.9 \\\\\n",
       "\t3 & C & 2.5 & STD & 62.6 \\\\\n",
       "\t4 & D & 2.0 & STD & 52.5 \\\\\n",
       "\\end{tabular}\n"
      ],
      "text/plain": [
       "4×4 DataFrame\n",
       "│ Row │ Segment │ NPS     │ Schedule │ IDmm    │\n",
       "│     │ \u001b[90mString\u001b[39m  │ \u001b[90mFloat64\u001b[39m │ \u001b[90mString\u001b[39m   │ \u001b[90mFloat64\u001b[39m │\n",
       "├─────┼─────────┼─────────┼──────────┼─────────┤\n",
       "│ 1   │ A       │ 14.0    │ STD      │ 336.54  │\n",
       "│ 2   │ B       │ 3.0     │ STD      │ 77.9    │\n",
       "│ 3   │ C       │ 2.5     │ STD      │ 62.6    │\n",
       "│ 4   │ D       │ 2.0     │ STD      │ 52.5    │"
      ]
     },
     "execution_count": 43,
     "metadata": {},
     "output_type": "execute_result"
    }
   ],
   "source": [
    "chosenLineSizes = Hydraulics2.getListLargerNPS(myLineSize)"
   ]
  },
  {
   "cell_type": "markdown",
   "metadata": {},
   "source": [
    "## Bump up a line size\n",
    "\n",
    "The NPS 2.5 is not common in many industries. We will bump line 3 to the next larger size."
   ]
  },
  {
   "cell_type": "code",
   "execution_count": 44,
   "metadata": {
    "scrolled": true
   },
   "outputs": [
    {
     "data": {
      "text/html": [
       "<table class=\"data-frame\"><thead><tr><th></th><th>Segment</th><th>NPS</th><th>Schedule</th><th>IDmm</th></tr><tr><th></th><th>String</th><th>Float64</th><th>String</th><th>Float64</th></tr></thead><tbody><p>4 rows × 4 columns</p><tr><th>1</th><td>A</td><td>14.0</td><td>STD</td><td>336.54</td></tr><tr><th>2</th><td>B</td><td>3.0</td><td>STD</td><td>77.9</td></tr><tr><th>3</th><td>C</td><td>3.0</td><td>STD</td><td>77.9</td></tr><tr><th>4</th><td>D</td><td>2.0</td><td>STD</td><td>52.5</td></tr></tbody></table>"
      ],
      "text/latex": [
       "\\begin{tabular}{r|cccc}\n",
       "\t& Segment & NPS & Schedule & IDmm\\\\\n",
       "\t\\hline\n",
       "\t& String & Float64 & String & Float64\\\\\n",
       "\t\\hline\n",
       "\t1 & A & 14.0 & STD & 336.54 \\\\\n",
       "\t2 & B & 3.0 & STD & 77.9 \\\\\n",
       "\t3 & C & 3.0 & STD & 77.9 \\\\\n",
       "\t4 & D & 2.0 & STD & 52.5 \\\\\n",
       "\\end{tabular}\n"
      ],
      "text/plain": [
       "4×4 DataFrame\n",
       "│ Row │ Segment │ NPS     │ Schedule │ IDmm    │\n",
       "│     │ \u001b[90mString\u001b[39m  │ \u001b[90mFloat64\u001b[39m │ \u001b[90mString\u001b[39m   │ \u001b[90mFloat64\u001b[39m │\n",
       "├─────┼─────────┼─────────┼──────────┼─────────┤\n",
       "│ 1   │ A       │ 14.0    │ STD      │ 336.54  │\n",
       "│ 2   │ B       │ 3.0     │ STD      │ 77.9    │\n",
       "│ 3   │ C       │ 3.0     │ STD      │ 77.9    │\n",
       "│ 4   │ D       │ 2.0     │ STD      │ 52.5    │"
      ]
     },
     "execution_count": 44,
     "metadata": {},
     "output_type": "execute_result"
    }
   ],
   "source": [
    "Hydraulics2.incrementLineSize(3,chosenLineSizes,1)\n",
    "chosenLineSizes"
   ]
  },
  {
   "cell_type": "code",
   "execution_count": 45,
   "metadata": {
    "scrolled": false
   },
   "outputs": [
    {
     "data": {
      "text/html": [
       "<table class=\"data-frame\"><thead><tr><th></th><th>Segment</th><th>Description</th><th>LineTag</th><th>PnID</th><th>fluidName</th><th>Schedule</th><th>Material</th><th>massFlow</th></tr><tr><th></th><th>String?</th><th>String?</th><th>String?</th><th>String?</th><th>String?</th><th>String?</th><th>String?</th><th>Float64?</th></tr></thead><tbody><p>4 rows × 19 columns (omitted printing of 11 columns)</p><tr><th>1</th><td>A</td><td>Test line</td><td>L-001</td><td>PID-007</td><td>propane</td><td>STD</td><td>Commercial steel</td><td>500000.0</td></tr><tr><th>2</th><td>B</td><td>Testline2</td><td>L-002</td><td>PID-007</td><td>water</td><td>STD</td><td>Commercial steel</td><td>66000.0</td></tr><tr><th>3</th><td>C</td><td>Testline3</td><td>L-003</td><td>PID-007</td><td>water</td><td>STD</td><td>Commercial steel</td><td>6000.0</td></tr><tr><th>4</th><td>D</td><td>Testline3</td><td>L-004</td><td>PID-007</td><td>water</td><td>STD</td><td>Commercial steel</td><td>10000.0</td></tr></tbody></table>"
      ],
      "text/latex": [
       "\\begin{tabular}{r|ccccccccc}\n",
       "\t& Segment & Description & LineTag & PnID & fluidName & Schedule & Material & massFlow & \\\\\n",
       "\t\\hline\n",
       "\t& String? & String? & String? & String? & String? & String? & String? & Float64? & \\\\\n",
       "\t\\hline\n",
       "\t1 & A & Test line & L-001 & PID-007 & propane & STD & Commercial steel & 500000.0 & $\\dots$ \\\\\n",
       "\t2 & B & Testline2 & L-002 & PID-007 & water & STD & Commercial steel & 66000.0 & $\\dots$ \\\\\n",
       "\t3 & C & Testline3 & L-003 & PID-007 & water & STD & Commercial steel & 6000.0 & $\\dots$ \\\\\n",
       "\t4 & D & Testline3 & L-004 & PID-007 & water & STD & Commercial steel & 10000.0 & $\\dots$ \\\\\n",
       "\\end{tabular}\n"
      ],
      "text/plain": [
       "4×19 DataFrame. Omitted printing of 13 columns\n",
       "│ Row │ Segment │ Description │ LineTag │ PnID    │ fluidName │ Schedule │\n",
       "│     │ \u001b[90mString?\u001b[39m │ \u001b[90mString?\u001b[39m     │ \u001b[90mString?\u001b[39m │ \u001b[90mString?\u001b[39m │ \u001b[90mString?\u001b[39m   │ \u001b[90mString?\u001b[39m  │\n",
       "├─────┼─────────┼─────────────┼─────────┼─────────┼───────────┼──────────┤\n",
       "│ 1   │ A       │ Test line   │ L-001   │ PID-007 │ propane   │ STD      │\n",
       "│ 2   │ B       │ Testline2   │ L-002   │ PID-007 │ water     │ STD      │\n",
       "│ 3   │ C       │ Testline3   │ L-003   │ PID-007 │ water     │ STD      │\n",
       "│ 4   │ D       │ Testline3   │ L-004   │ PID-007 │ water     │ STD      │"
      ]
     },
     "execution_count": 45,
     "metadata": {},
     "output_type": "execute_result"
    }
   ],
   "source": [
    "combined1=outerjoin(lineSizing, chosenLineSizes, on = intersect(names(lineSizing), names(chosenLineSizes)), makeunique=false,indicator=nothing,validate=(false,false))\n",
    "combined2=outerjoin(combined1, myLineSize, on = intersect(names(combined1), names(myLineSize)), makeunique=false,indicator=nothing,validate=(false,false))"
   ]
  },
  {
   "cell_type": "code",
   "execution_count": 46,
   "metadata": {
    "scrolled": false
   },
   "outputs": [
    {
     "data": {
      "text/plain": [
       "19-element Array{String,1}:\n",
       " \"Segment\"    \n",
       " \"Description\"\n",
       " \"LineTag\"    \n",
       " \"PnID\"       \n",
       " \"fluidName\"  \n",
       " \"Schedule\"   \n",
       " \"Material\"   \n",
       " \"massFlow\"   \n",
       " \"margin\"     \n",
       " \"frictionCsi\"\n",
       " \"kPaPer100m\" \n",
       " \"rho_kgm3\"   \n",
       " \"mu_mPas\"    \n",
       " \"roughnessMM\"\n",
       " \"NPS\"        \n",
       " \"IDmm\"       \n",
       " \"mmDP100\"    \n",
       " \"mmErosion\"  \n",
       " \"mmNeeded\"   "
      ]
     },
     "execution_count": 46,
     "metadata": {},
     "output_type": "execute_result"
    }
   ],
   "source": [
    "names(combined2)"
   ]
  },
  {
   "cell_type": "code",
   "execution_count": 47,
   "metadata": {
    "scrolled": true
   },
   "outputs": [
    {
     "data": {
      "text/html": [
       "<table class=\"data-frame\"><thead><tr><th></th><th>Segment</th><th>fluidName</th><th>massFlow</th><th>margin</th><th>mmDP100</th><th>mmErosion</th><th>NPS</th><th>Schedule</th></tr><tr><th></th><th>String?</th><th>String?</th><th>Float64?</th><th>Float64?</th><th>Float64?</th><th>Float64?</th><th>Float64?</th><th>String?</th></tr></thead><tbody><p>4 rows × 8 columns</p><tr><th>1</th><td>A</td><td>propane</td><td>500000.0</td><td>1.5</td><td>295.871</td><td>318.281</td><td>14.0</td><td>STD</td></tr><tr><th>2</th><td>B</td><td>water</td><td>66000.0</td><td>1.0</td><td>66.0907</td><td>60.8437</td><td>3.0</td><td>STD</td></tr><tr><th>3</th><td>C</td><td>water</td><td>6000.0</td><td>1.0</td><td>53.1497</td><td>21.183</td><td>3.0</td><td>STD</td></tr><tr><th>4</th><td>D</td><td>water</td><td>10000.0</td><td>1.0</td><td>43.9973</td><td>27.3472</td><td>2.0</td><td>STD</td></tr></tbody></table>"
      ],
      "text/latex": [
       "\\begin{tabular}{r|cccccccc}\n",
       "\t& Segment & fluidName & massFlow & margin & mmDP100 & mmErosion & NPS & Schedule\\\\\n",
       "\t\\hline\n",
       "\t& String? & String? & Float64? & Float64? & Float64? & Float64? & Float64? & String?\\\\\n",
       "\t\\hline\n",
       "\t1 & A & propane & 500000.0 & 1.5 & 295.871 & 318.281 & 14.0 & STD \\\\\n",
       "\t2 & B & water & 66000.0 & 1.0 & 66.0907 & 60.8437 & 3.0 & STD \\\\\n",
       "\t3 & C & water & 6000.0 & 1.0 & 53.1497 & 21.183 & 3.0 & STD \\\\\n",
       "\t4 & D & water & 10000.0 & 1.0 & 43.9973 & 27.3472 & 2.0 & STD \\\\\n",
       "\\end{tabular}\n"
      ],
      "text/plain": [
       "4×8 DataFrame. Omitted printing of 2 columns\n",
       "│ Row │ Segment │ fluidName │ massFlow │ margin   │ mmDP100  │ mmErosion │\n",
       "│     │ \u001b[90mString?\u001b[39m │ \u001b[90mString?\u001b[39m   │ \u001b[90mFloat64?\u001b[39m │ \u001b[90mFloat64?\u001b[39m │ \u001b[90mFloat64?\u001b[39m │ \u001b[90mFloat64?\u001b[39m  │\n",
       "├─────┼─────────┼───────────┼──────────┼──────────┼──────────┼───────────┤\n",
       "│ 1   │ A       │ propane   │ 500000.0 │ 1.5      │ 295.871  │ 318.281   │\n",
       "│ 2   │ B       │ water     │ 66000.0  │ 1.0      │ 66.0907  │ 60.8437   │\n",
       "│ 3   │ C       │ water     │ 6000.0   │ 1.0      │ 53.1497  │ 21.183    │\n",
       "│ 4   │ D       │ water     │ 10000.0  │ 1.0      │ 43.9973  │ 27.3472   │"
      ]
     },
     "execution_count": 47,
     "metadata": {},
     "output_type": "execute_result"
    }
   ],
   "source": [
    "resultTable1 = select(combined2, [:Segment, :fluidName, :massFlow, :margin, :mmDP100, :mmErosion, :NPS, :Schedule])"
   ]
  },
  {
   "cell_type": "code",
   "execution_count": 48,
   "metadata": {},
   "outputs": [
    {
     "data": {
      "text/plain": [
       "\"exportSampleSizingTable.csv\""
      ]
     },
     "execution_count": 48,
     "metadata": {},
     "output_type": "execute_result"
    }
   ],
   "source": [
    "CSV.write(\"exportSampleSizingTable.csv\", combined2)"
   ]
  },
  {
   "cell_type": "markdown",
   "metadata": {},
   "source": [
    "## Dump the results to preliminary files for hydraulic calculations\n",
    "\n",
    "Write the sizing table to a CSV file. Then create a list of sample fittings (100 m of pipe) for each segment. These CSV files can be imported into a spreadsheet to produce a complete hydraulic input sheet.\n"
   ]
  },
  {
   "cell_type": "code",
   "execution_count": 49,
   "metadata": {
    "scrolled": true
   },
   "outputs": [
    {
     "data": {
      "text/html": [
       "<table class=\"data-frame\"><thead><tr><th></th><th>Segment</th><th>Description</th><th>LineTag</th><th>PnID</th><th>NPS</th><th>Schedule</th><th>Material</th><th>fluidName</th></tr><tr><th></th><th>String</th><th>String</th><th>String</th><th>String</th><th>Float64</th><th>String</th><th>String</th><th>Any</th></tr></thead><tbody><p>4 rows × 10 columns (omitted printing of 2 columns)</p><tr><th>1</th><td>A</td><td>Test line</td><td>L-001</td><td>PID-007</td><td>14.0</td><td>STD</td><td>Commercial steel</td><td>propane</td></tr><tr><th>2</th><td>B</td><td>Testline2</td><td>L-002</td><td>PID-007</td><td>3.0</td><td>STD</td><td>Commercial steel</td><td>water</td></tr><tr><th>3</th><td>C</td><td>Testline3</td><td>L-003</td><td>PID-007</td><td>3.0</td><td>STD</td><td>Commercial steel</td><td>water</td></tr><tr><th>4</th><td>D</td><td>Testline3</td><td>L-004</td><td>PID-007</td><td>2.0</td><td>STD</td><td>Commercial steel</td><td>water</td></tr></tbody></table>"
      ],
      "text/latex": [
       "\\begin{tabular}{r|ccccccccc}\n",
       "\t& Segment & Description & LineTag & PnID & NPS & Schedule & Material & fluidName & \\\\\n",
       "\t\\hline\n",
       "\t& String & String & String & String & Float64 & String & String & Any & \\\\\n",
       "\t\\hline\n",
       "\t1 & A & Test line & L-001 & PID-007 & 14.0 & STD & Commercial steel & propane & $\\dots$ \\\\\n",
       "\t2 & B & Testline2 & L-002 & PID-007 & 3.0 & STD & Commercial steel & water & $\\dots$ \\\\\n",
       "\t3 & C & Testline3 & L-003 & PID-007 & 3.0 & STD & Commercial steel & water & $\\dots$ \\\\\n",
       "\t4 & D & Testline3 & L-004 & PID-007 & 2.0 & STD & Commercial steel & water & $\\dots$ \\\\\n",
       "\\end{tabular}\n"
      ],
      "text/plain": [
       "4×10 DataFrame. Omitted printing of 4 columns\n",
       "│ Row │ Segment │ Description │ LineTag │ PnID    │ NPS     │ Schedule │\n",
       "│     │ \u001b[90mString\u001b[39m  │ \u001b[90mString\u001b[39m      │ \u001b[90mString\u001b[39m  │ \u001b[90mString\u001b[39m  │ \u001b[90mFloat64\u001b[39m │ \u001b[90mString\u001b[39m   │\n",
       "├─────┼─────────┼─────────────┼─────────┼─────────┼─────────┼──────────┤\n",
       "│ 1   │ A       │ Test line   │ L-001   │ PID-007 │ 14.0    │ STD      │\n",
       "│ 2   │ B       │ Testline2   │ L-002   │ PID-007 │ 3.0     │ STD      │\n",
       "│ 3   │ C       │ Testline3   │ L-003   │ PID-007 │ 3.0     │ STD      │\n",
       "│ 4   │ D       │ Testline3   │ L-004   │ PID-007 │ 2.0     │ STD      │"
      ]
     },
     "execution_count": 49,
     "metadata": {},
     "output_type": "execute_result"
    }
   ],
   "source": [
    "sampleHydraulicDF = Hydraulics2.sizing2hydraulics(lineSizing, chosenLineSizes)"
   ]
  },
  {
   "cell_type": "code",
   "execution_count": 50,
   "metadata": {
    "scrolled": true
   },
   "outputs": [
    {
     "data": {
      "text/plain": [
       "\"exportSampleHydraulicTable.csv\""
      ]
     },
     "execution_count": 50,
     "metadata": {},
     "output_type": "execute_result"
    }
   ],
   "source": [
    "# dump the sample hydraulic file to a CSV file\n",
    "CSV.write(\"exportSampleHydraulicTable.csv\", sampleHydraulicDF)"
   ]
  },
  {
   "cell_type": "code",
   "execution_count": 51,
   "metadata": {
    "scrolled": true
   },
   "outputs": [
    {
     "data": {
      "text/html": [
       "<table class=\"data-frame\"><thead><tr><th></th><th>Segment</th><th>fittingType</th><th>num_length_m</th><th>comment</th><th>revision</th></tr><tr><th></th><th>String</th><th>String</th><th>Float64</th><th>String</th><th>String</th></tr></thead><tbody><p>4 rows × 5 columns</p><tr><th>1</th><td>A</td><td>PIPE</td><td>100.0</td><td>from line sizing</td><td>A</td></tr><tr><th>2</th><td>B</td><td>PIPE</td><td>100.0</td><td>from line sizing</td><td>A</td></tr><tr><th>3</th><td>C</td><td>PIPE</td><td>100.0</td><td>from line sizing</td><td>A</td></tr><tr><th>4</th><td>D</td><td>PIPE</td><td>100.0</td><td>from line sizing</td><td>A</td></tr></tbody></table>"
      ],
      "text/latex": [
       "\\begin{tabular}{r|ccccc}\n",
       "\t& Segment & fittingType & num\\_length\\_m & comment & revision\\\\\n",
       "\t\\hline\n",
       "\t& String & String & Float64 & String & String\\\\\n",
       "\t\\hline\n",
       "\t1 & A & PIPE & 100.0 & from line sizing & A \\\\\n",
       "\t2 & B & PIPE & 100.0 & from line sizing & A \\\\\n",
       "\t3 & C & PIPE & 100.0 & from line sizing & A \\\\\n",
       "\t4 & D & PIPE & 100.0 & from line sizing & A \\\\\n",
       "\\end{tabular}\n"
      ],
      "text/plain": [
       "4×5 DataFrame\n",
       "│ Row │ Segment │ fittingType │ num_length_m │ comment          │ revision │\n",
       "│     │ \u001b[90mString\u001b[39m  │ \u001b[90mString\u001b[39m      │ \u001b[90mFloat64\u001b[39m      │ \u001b[90mString\u001b[39m           │ \u001b[90mString\u001b[39m   │\n",
       "├─────┼─────────┼─────────────┼──────────────┼──────────────────┼──────────┤\n",
       "│ 1   │ A       │ PIPE        │ 100.0        │ from line sizing │ A        │\n",
       "│ 2   │ B       │ PIPE        │ 100.0        │ from line sizing │ A        │\n",
       "│ 3   │ C       │ PIPE        │ 100.0        │ from line sizing │ A        │\n",
       "│ 4   │ D       │ PIPE        │ 100.0        │ from line sizing │ A        │"
      ]
     },
     "execution_count": 51,
     "metadata": {},
     "output_type": "execute_result"
    }
   ],
   "source": [
    "sampleFittingDF = Hydraulics2.sizing2fittingList(lineSizing, chosenLineSizes)"
   ]
  },
  {
   "cell_type": "code",
   "execution_count": 52,
   "metadata": {},
   "outputs": [
    {
     "data": {
      "text/plain": [
       "\"exportSampleFittingTable.csv\""
      ]
     },
     "execution_count": 52,
     "metadata": {},
     "output_type": "execute_result"
    }
   ],
   "source": [
    "# dump the sample fitting list to a CSV file\n",
    "CSV.write(\"exportSampleFittingTable.csv\", sampleFittingDF)"
   ]
  },
  {
   "cell_type": "code",
   "execution_count": null,
   "metadata": {},
   "outputs": [],
   "source": []
  }
 ],
 "metadata": {
  "kernelspec": {
   "display_name": "Julia 1.3.1",
   "language": "julia",
   "name": "julia-1.3"
  },
  "language_info": {
   "file_extension": ".jl",
   "mimetype": "application/julia",
   "name": "julia",
   "version": "1.3.1"
  }
 },
 "nbformat": 4,
 "nbformat_minor": 2
}
